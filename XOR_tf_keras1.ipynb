{
  "nbformat": 4,
  "nbformat_minor": 0,
  "metadata": {
    "colab": {
      "private_outputs": true,
      "provenance": [],
      "mount_file_id": "1N4n44GPNah_3Vv1uGqZtumY0tT7Amd0c",
      "authorship_tag": "ABX9TyO9sNDPgZIamZLEKwE1BSyS",
      "include_colab_link": true
    },
    "kernelspec": {
      "name": "python3",
      "display_name": "Python 3"
    },
    "language_info": {
      "name": "python"
    },
    "accelerator": "TPU"
  },
  "cells": [
    {
      "cell_type": "markdown",
      "metadata": {
        "id": "view-in-github",
        "colab_type": "text"
      },
      "source": [
        "<a href=\"https://colab.research.google.com/github/don05050505/don05050505/blob/main/XOR_tf_keras1.ipynb\" target=\"_parent\"><img src=\"https://colab.research.google.com/assets/colab-badge.svg\" alt=\"Open In Colab\"/></a>"
      ]
    },
    {
      "cell_type": "code",
      "execution_count": null,
      "metadata": {
        "id": "-C7yxIUVkODp"
      },
      "outputs": [],
      "source": [
        "from os import X_OK\n",
        "import numpy as np\n",
        "class DeltaSGD:\n",
        "    def __init__(self, W, X, D):\n",
        "        self.W=W\n",
        "        self.X=X\n",
        "        self.D=D\n",
        "\n",
        "    def sigmoid(self, v):\n",
        "        return 1 / (1+np.exp(-v))\n",
        "\n",
        "    def forward(self, x):\n",
        "        v = self.W @ x\n",
        "        y = self.sigmoid(v)\n",
        "        return y\n",
        "\n",
        "\n",
        "    def backward(self, alpha, x, d, y):\n",
        "        e = d - y\n",
        "        delta = y*(1-y)*e\n",
        "        dW = alpha*delta*x\n",
        "        return dW\n",
        "\n",
        "\n",
        "    def __call__(self, alpha, N):\n",
        "        for k in range(N):\n",
        "            x= self.X[k].T\n",
        "            d= self.D[k]\n",
        "\n",
        "            y= self.forward(x)\n",
        "            dW= self.backward(alpha, x, d, y)\n",
        "\n",
        "            self.W = self.W + dW\n",
        "\n",
        "        return self.W\n",
        "\n",
        "if __name__ == \"__main__\":\n",
        "\n",
        "    X = np.array([[0,0,1],\n",
        "                 [0,1,1],\n",
        "                 [1,0,1],\n",
        "                 [1,1,1]\n",
        "                  ])\n",
        "    D = np.array([1,\n",
        "                  1,\n",
        "                  0,\n",
        "                  0])\n",
        "\n",
        "    W= 2*np.random.rand(1,3)-1;\n",
        "    epochs=10000\n",
        "    dSGD= DeltaSGD(W,X,D)\n",
        "    alpha=0.9\n",
        "    N=4\n",
        "    for ephoch in range(epochs):\n",
        "        W=dSGD(alpha, N)\n",
        "\n",
        "    for k in range(N):\n",
        "        x = X[k].T\n",
        "        v = W @ x\n",
        "        y = dSGD.sigmoid(v)\n",
        "        print(y)\n"
      ]
    },
    {
      "cell_type": "code",
      "source": [
        "import numpy as np\n",
        "import tensorflow as tf\n",
        "from tensorflow import keras\n",
        "\n",
        "# Define the XOR dataset\n",
        "X = np.array([[0, 0], [0, 1], [1, 0], [1, 1]])\n",
        "D = np.array([0, 1, 1, 0])\n",
        "\n",
        "# Build the model\n",
        "model = keras.Sequential([\n",
        "    keras.layers.Input(shape=(2,)),           # Input layer\n",
        "    keras.layers.Dense(units=2, activation='relu'),  # Hidden layer with ReLU activation\n",
        "    keras.layers.Dense(units=1, activation='sigmoid') # Output layer with sigmoid activation\n",
        "])\n",
        "\n",
        "# Compile the model\n",
        "model.compile(optimizer='adam', loss='binary_crossentropy', metrics=['accuracy'])\n",
        "\n",
        "# Train the model\n",
        "model.fit(X, D, epochs=1000, verbose=1)\n",
        "\n",
        "# Predict using the trained model\n",
        "predictions = model.predict(X)\n",
        "\n",
        "# Print the predictions\n",
        "for i in range(len(X)):\n",
        "    prediction = 1 if predictions[i] > 0.5 else 0\n",
        "    print(f\"Input: {X[i]}, Predicted: {prediction}\")\n"
      ],
      "metadata": {
        "id": "bB9ZEsWFquGB"
      },
      "execution_count": null,
      "outputs": []
    }
  ]
}