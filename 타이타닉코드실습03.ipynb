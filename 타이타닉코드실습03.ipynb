{
  "nbformat": 4,
  "nbformat_minor": 0,
  "metadata": {
    "colab": {
      "private_outputs": true,
      "provenance": [],
      "mount_file_id": "1j7-jsYXE5bKgUlw8io-GqyiUdVLYL5vm",
      "authorship_tag": "ABX9TyMTe6XGZEerciS93E7Tk2eI",
      "include_colab_link": true
    },
    "kernelspec": {
      "name": "python3",
      "display_name": "Python 3"
    },
    "language_info": {
      "name": "python"
    }
  },
  "cells": [
    {
      "cell_type": "markdown",
      "metadata": {
        "id": "view-in-github",
        "colab_type": "text"
      },
      "source": [
        "<a href=\"https://colab.research.google.com/github/don05050505/don05050505/blob/main/%ED%83%80%EC%9D%B4%ED%83%80%EB%8B%89%EC%BD%94%EB%93%9C%EC%8B%A4%EC%8A%B503.ipynb\" target=\"_parent\"><img src=\"https://colab.research.google.com/assets/colab-badge.svg\" alt=\"Open In Colab\"/></a>"
      ]
    },
    {
      "cell_type": "code",
      "execution_count": null,
      "metadata": {
        "id": "05_QGfL0JQ6R"
      },
      "outputs": [],
      "source": [
        "import numpy as np\n",
        "import pandas as pd\n",
        "import tensorflow as tf"
      ]
    },
    {
      "cell_type": "code",
      "source": [
        "train = pd.read_csv('/content/drive/MyDrive/데이터전처리실습/실습데이터/타이타닉/train.csv')\n",
        "test = pd.read_csv('/content/drive/MyDrive/데이터전처리실습/실습데이터/타이타닉/test.csv')\n",
        "gender_submission = pd.read_csv('/content/drive/MyDrive/데이터전처리실습/실습데이터/타이타닉/gender_submission.csv')\n",
        "\n",
        "\n",
        "def clean_data(df):\n",
        "    df.drop(['Name', 'PassengerId'], axis=1, inplace=True)\n",
        "    df['Sex'].replace({'male': 1, 'female': 0}, inplace=True)\n",
        "    return df\n",
        "\n",
        "train = clean_data(train.copy())\n",
        "test = clean_data(test.copy())\n"
      ],
      "metadata": {
        "id": "iqtnLadBpTMP"
      },
      "execution_count": null,
      "outputs": []
    },
    {
      "cell_type": "code",
      "source": [
        "#데이터 탐색\n",
        "def explore_data(df):\n",
        "    print(\"Columns:\", df.columns)\n",
        "    print(\"Head:\", df.head(2))\n",
        "    print(\"Null values:\", df.isnull().any(axis=0))\n",
        "    print(\"Null counts:\", df.isnull().sum(axis=0))\n",
        "    print(\"Describe:\", df.describe())\n",
        "\n",
        "explore_data(train)\n",
        "explore_data(test)"
      ],
      "metadata": {
        "id": "ryTsaub-whkJ"
      },
      "execution_count": null,
      "outputs": []
    },
    {
      "cell_type": "code",
      "source": [
        "# # 데이터 전처리\n",
        "# #Embarked의 2개 결손값 'Unknown'으로 보완.\n",
        "# train['Embarked'].fillna('Unknown', inplace=True)\n",
        "\n",
        "# #Cabin의 결손값 687개를 'Unknown'으로 보완\n",
        "# # train = train.fillna({'Cabin': 'Unknown'},  inplace=True) ,<-- 아래코드와 같지만, 비효율적\n",
        "# train['Cabin'].fillna('Unknown', inplace=True)\n",
        "\n",
        "# #Age의 결손 값을 중간값으로 보완\n",
        "# train['Age'].fillna(train['Age'].median(), inplace=True)\n",
        "\n",
        "# # Fare의 결손 값을 중간값으로 보완\n",
        "# train['Fare'].fillna(train['Fare'].median(), inplace=True)\n",
        "\n",
        "# train_df = pd.get_dummies(train, columns=['Pclass', 'Embarked'])\n",
        "# # train_df = pd.get_dummies(train)\n",
        "\n",
        "# # print(train_df.isnull().any(axis=0))\n",
        "# # print(train_df.isnull().any(axis=1))\n",
        "# # print(train_df.isnull().sum(axis=0))\n",
        "# # print(train_df.isnull().sum(axis=1))\n",
        "# print(train_df.columns)\n",
        "# print(test_df.columns)"
      ],
      "metadata": {
        "id": "PhbUQdJX1bkS"
      },
      "execution_count": null,
      "outputs": []
    },
    {
      "cell_type": "code",
      "source": [
        "exp = train_df[['Sex', 'Age', 'SibSp', 'Parch',\n",
        "       'Ticket', 'Fare', 'Cabin', 'Pclass_1', 'Pclass_2', 'Pclass_3',\n",
        "       'Embarked_C', 'Embarked_Q', 'Embarked_S', 'Embarked_Unknown']]\n",
        "tgt = train_df[['Survived']]\n",
        "print(exp.shape, tgt.shape)"
      ],
      "metadata": {
        "id": "72En1YsotTIg"
      },
      "execution_count": null,
      "outputs": []
    },
    {
      "cell_type": "code",
      "source": [
        "import numpy as np\n",
        "import pandas as pd\n",
        "import tensorflow as tf\n",
        "\n",
        "train = pd.read_csv('/content/drive/MyDrive/데이터전처리실습/실습데이터/타이타닉/train.csv')\n",
        "test = pd.read_csv('/content/drive/MyDrive/데이터전처리실습/실습데이터/타이타닉/test.csv')\n",
        "gender_submission = pd.read_csv('/content/drive/MyDrive/데이터전처리실습/실습데이터/타이타닉/gender_submission.csv')\n",
        "\n",
        "\n",
        "def clean_data(df):\n",
        "    df.drop(['Name', 'PassengerId'], axis=1, inplace=True)\n",
        "    df['Sex'].replace({'male': 1, 'female': 0}, inplace=True)\n",
        "    return df\n",
        "\n",
        "train = clean_data(train.copy())\n",
        "test = clean_data(test.copy())\n",
        "# 데이터 전처리\n",
        "#Embarked의 2개 결손값 'Unknown'으로 보완.\n",
        "train['Embarked'].fillna('Unknown', inplace=True)\n",
        "\n",
        "#Cabin의 결손값 687개를 'Unknown'으로 보완\n",
        "# train = train.fillna({'Cabin': 'Unknown'},  inplace=True) ,<-- 아래코드와 같지만, 비효율적\n",
        "train['Cabin'].fillna('Unknown', inplace=True)\n",
        "\n",
        "#Age의 결손 값을 중간값으로 보완\n",
        "train['Age'].fillna(train['Age'].median(), inplace=True)\n",
        "\n",
        "# Fare의 결손 값을 중간값으로 보완\n",
        "train['Fare'].fillna(train['Fare'].median(), inplace=True)\n",
        "\n",
        "train_df = pd.get_dummies(train, columns=['Pclass', 'Embarked'])\n",
        "# train_df = pd.get_dummies(train)\n",
        "\n",
        "# print(train_df.isnull().any(axis=0))\n",
        "# print(train_df.isnull().any(axis=1))\n",
        "# print(train_df.isnull().sum(axis=0))\n",
        "# print(train_df.isnull().sum(axis=1))\n",
        "print(train_df.columns)\n",
        "exp = train_df[['Sex', 'Age', 'SibSp', 'Parch',\n",
        "       'Ticket', 'Fare', 'Cabin', 'Pclass_1', 'Pclass_2', 'Pclass_3',\n",
        "       'Embarked_C', 'Embarked_Q', 'Embarked_S', 'Embarked_Unknown']]\n",
        "\n",
        "# x_train과 y\n"
      ],
      "metadata": {
        "id": "bah652L8Hcep"
      },
      "execution_count": null,
      "outputs": []
    },
    {
      "cell_type": "code",
      "source": [
        "import numpy as np\n",
        "import pandas as pd\n",
        "import tensorflow as tf\n",
        "\n",
        "train = pd.read_csv('/content/drive/MyDrive/데이터전처리실습/실습데이터/타이타닉/train.csv')\n",
        "test = pd.read_csv('/content/drive/MyDrive/데이터전처리실습/실습데이터/타이타닉/test.csv')\n",
        "gender_submission = pd.read_csv('/content/drive/MyDrive/데이터전처리실습/실습데이터/타이타닉/gender_submission.csv')\n",
        "\n",
        "\n",
        "def clean_data(df):\n",
        "    df.drop(['Name', 'PassengerId'], axis=1, inplace=True)\n",
        "    df['Sex'].replace({'male': 1, 'female': 0}, inplace=True)\n",
        "    return df\n",
        "\n",
        "train = clean_data(train.copy())\n",
        "test = clean_data(test.copy())\n",
        "# 데이터 전처리\n",
        "#Embarked의 2개 결손값 'Unknown'으로 보완.\n",
        "train['Embarked'].fillna('Unknown', inplace=True)\n",
        "\n",
        "#Cabin의 결손값 687개를 'Unknown'으로 보완\n",
        "# train = train.fillna({'Cabin': 'Unknown'},  inplace=True) ,<-- 아래코드와 같지만, 비효율적\n",
        "train['Cabin'].fillna('Unknown', inplace=True)\n",
        "\n",
        "#Age의 결손 값을 중간값으로 보완\n",
        "train['Age'].fillna(train['Age'].median(), inplace=True)\n",
        "\n",
        "# Fare의 결손 값을 중간값으로 보완\n",
        "train['Fare'].fillna(train['Fare'].median(), inplace=True)\n",
        "\n",
        "train_df = pd.get_dummies(train, columns=['Pclass', 'Embarked'])\n",
        "# train_df = pd.get_dummies(train)\n",
        "\n",
        "# print(train_df.isnull().any(axis=0))\n",
        "# print(train_df.isnull().any(axis=1))\n",
        "# print(train_df.isnull().sum(axis=0))\n",
        "# print(train_df.isnull().sum(axis=1))\n",
        "print(train_df.columns)\n",
        "exp = train_df[['Sex', 'Age', 'SibSp', 'Parch',\n",
        "       'Ticket', 'Fare', 'Cabin', 'Pclass_1', 'Pclass_2', 'Pclass_3',\n",
        "       'Embarked_C', 'Embarked_Q', 'Embarked_S', 'Embarked_Unknown']]\n",
        "\n",
        "# x_train과 y\n",
        "\n",
        "model = tf.keras.models.Sequential([\n",
        "  tf.keras.layers.Dense(10, activation='relu'),\n",
        "  tf.keras.layers.Dense(10, activation='relu'),\n",
        "  tf.keras.layers.Dense(1, activation='sigmoid')\n",
        "])\n",
        "\n",
        "# 모델을 컴파일합니다.\n",
        "model.compile(optimizer='adam', loss='binary_crossentropy', metrics=['accuracy'])\n",
        "\n",
        "# 모델을 훈련합니다.\n",
        "model.fit(x_train, y_train, epochs=10)\n",
        "#x_test을 사용하여 모델을 평가합니다.\n",
        "# 모델의 예측을 얻습니다.\n",
        "y_pred = model.predict(x_test)\n",
        "\n",
        "# 모델의 정확도를 계산합니다.\n",
        "score = model.evaluate(x_test, y_test, verbose=0)\n",
        "print('Accuracy:', score[1])"
      ],
      "metadata": {
        "id": "etiXLyz-EcK4"
      },
      "execution_count": null,
      "outputs": []
    }
  ]
}