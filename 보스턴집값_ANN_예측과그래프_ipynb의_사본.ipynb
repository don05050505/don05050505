{
  "nbformat": 4,
  "nbformat_minor": 0,
  "metadata": {
    "colab": {
      "private_outputs": true,
      "provenance": [],
      "mount_file_id": "13XQcU0FzXrmzS07azawF-cWfd4lWA4Rq",
      "authorship_tag": "ABX9TyPAiylim+OEiesNisn5B0ia",
      "include_colab_link": true
    },
    "kernelspec": {
      "name": "python3",
      "display_name": "Python 3"
    },
    "language_info": {
      "name": "python"
    }
  },
  "cells": [
    {
      "cell_type": "markdown",
      "metadata": {
        "id": "view-in-github",
        "colab_type": "text"
      },
      "source": [
        "<a href=\"https://colab.research.google.com/github/don05050505/don05050505/blob/main/%EB%B3%B4%EC%8A%A4%ED%84%B4%EC%A7%91%EA%B0%92_ANN_%EC%98%88%EC%B8%A1%EA%B3%BC%EA%B7%B8%EB%9E%98%ED%94%84_ipynb%EC%9D%98_%EC%82%AC%EB%B3%B8.ipynb\" target=\"_parent\"><img src=\"https://colab.research.google.com/assets/colab-badge.svg\" alt=\"Open In Colab\"/></a>"
      ]
    },
    {
      "cell_type": "code",
      "source": [
        "import numpy as np\n",
        "import matplotlib.pyplot as plt\n",
        "import tensorflow as tf\n",
        "from keras import layers, models\n",
        "from sklearn import preprocessing\n",
        "\n",
        "class ANN(models.Model):\n",
        "    def __init__(self, Nin, Nh, Nout):\n",
        "        hidden = layers.Dense(Nh, activation='relu')\n",
        "        output = layers.Dense(Nout)\n",
        "\n",
        "        x = layers.Input(shape=(Nin,))\n",
        "        h = hidden(x)\n",
        "        y = output(h)\n",
        "\n",
        "        super().__init__(x, y)\n",
        "        self.compile(loss='mse', optimizer='sgd')\n",
        "\n",
        "def Data_func():\n",
        "    (X_train, y_train), (X_test, y_test) = tf.keras.datasets.boston_housing.load_data()\n",
        "    scaler = preprocessing.MinMaxScaler()\n",
        "    X_train = scaler.fit_transform(X_train)\n",
        "    X_test = scaler.transform(X_test)\n",
        "    return (X_train, y_train), (X_test, y_test)\n",
        "\n",
        "def plot_loss(history):\n",
        "    plt.figure(figsize=(5, 3))\n",
        "    plt.plot(history.history['loss'], label='Training Loss')\n",
        "    plt.plot(history.history['val_loss'], label='Validation Loss')\n",
        "    plt.title('Loss Over Epochs')\n",
        "    plt.xlabel('Epochs')\n",
        "    plt.ylabel('Loss')\n",
        "    plt.legend()\n",
        "    plt.grid()\n",
        "    plt.show()\n",
        "\n",
        "def main():\n",
        "    Nin = 13\n",
        "    Nh = 5\n",
        "    Nout = 1\n",
        "\n",
        "    model = ANN(Nin, Nh, Nout)\n",
        "    (X_train, y_train), (X_test, y_test) = Data_func()\n",
        "\n",
        "    history = model.fit(X_train, y_train, epochs=5, batch_size=100, validation_split=0.2)\n",
        "    performance_test = model.evaluate(X_test, y_test, batch_size=100)\n",
        "    print('Test Loss:', performance_test)\n",
        "\n",
        "    plot_loss(history)\n",
        "\n",
        "if __name__ == '__main__':\n",
        "    main()\n"
      ],
      "metadata": {
        "id": "2FFnJo_5ua2q"
      },
      "execution_count": null,
      "outputs": []
    }
  ]
}