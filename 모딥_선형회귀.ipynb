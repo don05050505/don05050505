{
  "nbformat": 4,
  "nbformat_minor": 0,
  "metadata": {
    "colab": {
      "private_outputs": true,
      "provenance": [],
      "mount_file_id": "1yL5CsyPAeWGmmEuuJ5hxb-Zco9v2OcDE",
      "authorship_tag": "ABX9TyPmtsIdbjBX2PPBRl+hlTSm",
      "include_colab_link": true
    },
    "kernelspec": {
      "name": "python3",
      "display_name": "Python 3"
    },
    "language_info": {
      "name": "python"
    }
  },
  "cells": [
    {
      "cell_type": "markdown",
      "metadata": {
        "id": "view-in-github",
        "colab_type": "text"
      },
      "source": [
        "<a href=\"https://colab.research.google.com/github/don05050505/don05050505/blob/main/%EB%AA%A8%EB%94%A5_%EC%84%A0%ED%98%95%ED%9A%8C%EA%B7%80.ipynb\" target=\"_parent\"><img src=\"https://colab.research.google.com/assets/colab-badge.svg\" alt=\"Open In Colab\"/></a>"
      ]
    },
    {
      "cell_type": "code",
      "source": [
        "import numpy as np"
      ],
      "metadata": {
        "id": "yUmWwmPcdu4T"
      },
      "execution_count": null,
      "outputs": []
    },
    {
      "cell_type": "markdown",
      "source": [
        "x= 공부한 시간, y= 성적, y=ax+b에서 a&b?\n",
        "\n",
        "a= 총합{(x-x평균)(y-y평균)}/총합{(x-x평균)제곱}\n",
        "\n",
        "ex) a= (2-5)(8-90.5)+(~~~)+(~~~)+(8-5)(97-90.5) / (2-5)^2 + ~~~(8-5)^2 , b= y평균 -(x평균 * a)"
      ],
      "metadata": {
        "id": "qc9R2fL_d5CQ"
      }
    },
    {
      "cell_type": "code",
      "source": [
        "# 최소제곱 코드\n",
        "x = [2,4,6,8]\n",
        "y = [81,93,91,97]\n",
        "\n",
        "mnx = np.mean(x)\n",
        "mny = np.mean(y)\n",
        "print('x의 평균값:', mnx)\n",
        "print('y의 평균값:', mny)\n",
        "\n",
        "divisor = sum([(mnx - i)**2 for i in x])\n",
        "\n",
        "def top(x, mnx, y, mny):\n",
        "    d=0\n",
        "    for i in range(len(x)):\n",
        "        d += (x[i]- mnx)*(y[i] - mny)\n",
        "    return d\n",
        "\n",
        "dividend = top(x, mnx, y, mny)\n",
        "print('분모(Divisor):', divisor)\n",
        "print('분자(Dividend:)', dividend)\n",
        "\n",
        "a = dividend / divisor\n",
        "b = mny - (mnx*a)\n",
        "print('기울기 a=', a)\n",
        "print('y절편 b=', b)"
      ],
      "metadata": {
        "id": "TSO8WPVnAyk8"
      },
      "execution_count": null,
      "outputs": []
    }
  ]
}