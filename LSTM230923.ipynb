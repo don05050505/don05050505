{
  "nbformat": 4,
  "nbformat_minor": 0,
  "metadata": {
    "colab": {
      "private_outputs": true,
      "provenance": [],
      "mount_file_id": "1xdVH7titlEE00-TR9asYgWhN4h9zk3s1",
      "authorship_tag": "ABX9TyN7zTq6IHmFA6V/eTHZqGtR",
      "include_colab_link": true
    },
    "kernelspec": {
      "name": "python3",
      "display_name": "Python 3"
    },
    "language_info": {
      "name": "python"
    }
  },
  "cells": [
    {
      "cell_type": "markdown",
      "metadata": {
        "id": "view-in-github",
        "colab_type": "text"
      },
      "source": [
        "<a href=\"https://colab.research.google.com/github/don05050505/don05050505/blob/main/LSTM230923.ipynb\" target=\"_parent\"><img src=\"https://colab.research.google.com/assets/colab-badge.svg\" alt=\"Open In Colab\"/></a>"
      ]
    },
    {
      "cell_type": "code",
      "execution_count": null,
      "metadata": {
        "id": "U-2RHI8Kd8nj"
      },
      "outputs": [],
      "source": [
        "!pip install Korpora\n",
        "!pip install konlpy"
      ]
    },
    {
      "cell_type": "code",
      "source": [
        "from konlpy.tag import Hannanum\n",
        "from Korpora import Korpora\n",
        "import pandas as pd\n",
        "import numpy as np"
      ],
      "metadata": {
        "id": "LCKxNzU8jhU4"
      },
      "execution_count": null,
      "outputs": []
    },
    {
      "cell_type": "code",
      "source": [
        "Korpora.fetch('nsmc')\n",
        "corpus = Korpora.load('nsmc')"
      ],
      "metadata": {
        "id": "0fTnW1kZkCnW"
      },
      "execution_count": null,
      "outputs": []
    },
    {
      "cell_type": "code",
      "source": [
        "train_text = corpus.train.texts\n",
        "train_labels = corpus.train.labels\n",
        "test_text = corpus.test.texts\n",
        "test_labels = corpus.test.labels\n",
        "Xtrain = pd.DataFrame(train_text, columns=['text'])\n",
        "ytrain = pd.DataFrame(train_labels, columns=['labels'])\n",
        "Xtest = pd.DataFrame(test_text, columns=['text'])\n",
        "ytest = pd.DataFrame(test_labels, columns=['labels'])\n",
        "print(Xtest)"
      ],
      "metadata": {
        "id": "9MGxUd2Amuy2"
      },
      "execution_count": null,
      "outputs": []
    },
    {
      "cell_type": "code",
      "source": [
        "import tensorflow as tf\n",
        "from tensorflow.keras.layers.experimental.preprocessing import TextVectorization"
      ],
      "metadata": {
        "id": "fq9WAjsimwW1"
      },
      "execution_count": null,
      "outputs": []
    },
    {
      "cell_type": "code",
      "source": [
        "X = Xtest[:10000]\n",
        "vector_layer = TextVectorization(\n",
        "    max_tokens=200000,\n",
        "    output_mode='int',\n",
        "    output_sequence_length=10)\n",
        "vector_layer.adapt(tf.cast(X, tf.string))\n",
        "vocab_set = vector_layer.get_vocabulary()\n",
        "vocab_size = len(vocab_set)\n",
        "print(vocab_size)"
      ],
      "metadata": {
        "id": "zsruzDYpnR0W"
      },
      "execution_count": null,
      "outputs": []
    }
  ]
}