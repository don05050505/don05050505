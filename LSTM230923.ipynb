{
  "nbformat": 4,
  "nbformat_minor": 0,
  "metadata": {
    "colab": {
      "private_outputs": true,
      "provenance": [],
      "gpuType": "T4",
      "mount_file_id": "1xdVH7titlEE00-TR9asYgWhN4h9zk3s1",
      "authorship_tag": "ABX9TyPsfG9O6eQsdAdE3q9Az1+/",
      "include_colab_link": true
    },
    "kernelspec": {
      "name": "python3",
      "display_name": "Python 3"
    },
    "language_info": {
      "name": "python"
    },
    "accelerator": "GPU"
  },
  "cells": [
    {
      "cell_type": "markdown",
      "metadata": {
        "id": "view-in-github",
        "colab_type": "text"
      },
      "source": [
        "<a href=\"https://colab.research.google.com/github/don05050505/don05050505/blob/main/LSTM230923.ipynb\" target=\"_parent\"><img src=\"https://colab.research.google.com/assets/colab-badge.svg\" alt=\"Open In Colab\"/></a>"
      ]
    },
    {
      "cell_type": "code",
      "execution_count": null,
      "metadata": {
        "id": "U-2RHI8Kd8nj"
      },
      "outputs": [],
      "source": [
        "!pip install Korpora\n",
        "!pip install konlpy"
      ]
    },
    {
      "cell_type": "code",
      "source": [
        "from konlpy.tag import Hannanum\n",
        "from Korpora import Korpora\n",
        "import pandas as pd\n",
        "import numpy as np"
      ],
      "metadata": {
        "id": "LCKxNzU8jhU4"
      },
      "execution_count": null,
      "outputs": []
    },
    {
      "cell_type": "code",
      "source": [
        "Korpora.fetch('nsmc')\n",
        "corpus = Korpora.load('nsmc')"
      ],
      "metadata": {
        "id": "0fTnW1kZkCnW"
      },
      "execution_count": null,
      "outputs": []
    },
    {
      "cell_type": "code",
      "source": [
        "train_text = corpus.train.texts\n",
        "train_labels = corpus.train.labels\n",
        "test_text = corpus.test.texts\n",
        "test_labels = corpus.test.labels\n",
        "Xtrain = pd.DataFrame(train_text, columns=['text'])\n",
        "ytrain = pd.DataFrame(train_labels, columns=['labels'])\n",
        "Xtest = pd.DataFrame(test_text, columns=['text'])\n",
        "ytest = pd.DataFrame(test_labels, columns=['labels'])\n",
        "print(Xtest)"
      ],
      "metadata": {
        "id": "9MGxUd2Amuy2"
      },
      "execution_count": null,
      "outputs": []
    },
    {
      "cell_type": "code",
      "source": [
        "import tensorflow as tf\n",
        "from tensorflow.keras.layers.experimental.preprocessing import TextVectorization"
      ],
      "metadata": {
        "id": "fq9WAjsimwW1"
      },
      "execution_count": null,
      "outputs": []
    },
    {
      "cell_type": "code",
      "source": [
        "X = Xtest[:10000]\n",
        "print(X)\n",
        "y = ytest[:10000]\n",
        "# 영문작업은 아래 바로 사용 가능\n",
        "vector_layer = TextVectorization(\n",
        "    max_tokens=200000,\n",
        "    output_mode='int',\n",
        "    output_sequence_length=20)\n",
        "vector_layer.adapt(tf.cast(X, tf.string))\n",
        "vocab_set = vector_layer.get_vocabulary()\n",
        "vocab_size = len(vocab_set)\n",
        "print(vocab_size)"
      ],
      "metadata": {
        "id": "zsruzDYpnR0W"
      },
      "execution_count": null,
      "outputs": []
    },
    {
      "cell_type": "code",
      "source": [
        "embedding_dim = 500\n",
        "sequence_length = 20\n",
        "lstm_length = 256\n",
        "model = tf.keras.Sequential()\n",
        "model.add(tf.keras.layers.Input(shape=(1,), dtype=tf.string))  # shape를 수정\n",
        "model.add(vector_layer)\n",
        "model.add(tf.keras.layers.Embedding(vocab_size, embedding_dim, input_length=sequence_length))\n",
        "model.add(tf.keras.layers.Bidirectional(tf.keras.layers.LSTM(lstm_length)))\n",
        "model.add(tf.keras.layers.Dropout(0.5))\n",
        "model.add(tf.keras.layers.Dense(128, activation='relu'))\n",
        "model.add(tf.keras.layers.Dense(128, activation='relu'))\n",
        "model.add(tf.keras.layers.Dense(1, activation='sigmoid'))  # 2진분류일 때\n",
        "# model.add(tf.keras.layers.Dense(num_labels, activation='softmax'))  # 다진분류일 때\n",
        "model.compile(optimizer='adam', loss='binary_crossentropy', metrics=['accuracy'])  # 2진분류일 때\n",
        "# model.compile(optimizer='adam', loss=tf.keras.losses.CategoricalCrossentropy(), metrics=['accuracy'])  # 다진분류일 때\n"
      ],
      "metadata": {
        "id": "PfTAsqNXtQh1"
      },
      "execution_count": null,
      "outputs": []
    },
    {
      "cell_type": "code",
      "source": [
        "model.summary()"
      ],
      "metadata": {
        "id": "_ZtZaOqvzA-c"
      },
      "execution_count": null,
      "outputs": []
    },
    {
      "cell_type": "code",
      "source": [
        "model.fit(X, y, epochs=10, validation_split=0.2, batch_size=32, verbose=1, shuffle=True)\n"
      ],
      "metadata": {
        "id": "Gyp4AcTJz__8"
      },
      "execution_count": null,
      "outputs": []
    }
  ]
}