{
  "nbformat": 4,
  "nbformat_minor": 0,
  "metadata": {
    "colab": {
      "private_outputs": true,
      "provenance": [],
      "gpuType": "T4",
      "include_colab_link": true
    },
    "kernelspec": {
      "name": "python3",
      "display_name": "Python 3"
    },
    "language_info": {
      "name": "python"
    },
    "accelerator": "GPU"
  },
  "cells": [
    {
      "cell_type": "markdown",
      "metadata": {
        "id": "view-in-github",
        "colab_type": "text"
      },
      "source": [
        "<a href=\"https://colab.research.google.com/github/don05050505/don05050505/blob/main/cifar10cnn_community.ipynb\" target=\"_parent\"><img src=\"https://colab.research.google.com/assets/colab-badge.svg\" alt=\"Open In Colab\"/></a>"
      ]
    },
    {
      "cell_type": "code",
      "execution_count": null,
      "metadata": {
        "id": "NDq4srQn-ADX"
      },
      "outputs": [],
      "source": [
        "import tensorflow as tf\n",
        "from tensorflow.keras.models import Sequential\n",
        "from tensorflow.keras.layers import Dense, Flatten, Conv2D, MaxPooling2D, Dropout\n",
        "path = \"/content/drive/MyDrive/MyLectureRepository/lectData/deepLearningLectData/lectDeepLearning6day/\""
      ]
    },
    {
      "cell_type": "code",
      "source": [
        "class CNN(Sequential):\n",
        "    def __init__(self, input_shape, labels):\n",
        "        super().__init__()\n",
        "        self.add(Conv2D(32,\n",
        "                        kernel_size=(5,5),\n",
        "                        strides = 1,\n",
        "                        padding='same',\n",
        "                        activation='relu',\n",
        "                        input_shape=input_shape,\n",
        "                        kernel_initializer = 'he_normal'))\n",
        "\n",
        "        self.add(MaxPooling2D(pool_size=(3,3),\n",
        "                              strides=(2,2),\n",
        "                              padding='valid',\n",
        "                              data_format='channels_last'))\n",
        "        self.add(Conv2D(64,\n",
        "                        kernel_size=(5,5),\n",
        "                        strides = 1,\n",
        "                        padding='same',\n",
        "                        activation='relu',\n",
        "                        kernel_initializer = 'he_normal'))\n",
        "\n",
        "        self.add(MaxPooling2D(pool_size=(2,2),\n",
        "                              strides=(2,2),\n",
        "                              padding='valid',\n",
        "                              data_format='channels_last'))\n",
        "        self.add(Conv2D(256,\n",
        "                        kernel_size=(3,3),\n",
        "                        strides = 1,\n",
        "                        padding='valid',\n",
        "                        activation='relu',\n",
        "                        kernel_initializer = 'he_normal'))\n",
        "        self.add(Conv2D(256,\n",
        "                        kernel_size=(3,3),\n",
        "                        strides = 1,\n",
        "                        padding='same',\n",
        "                        activation='relu',\n",
        "                        kernel_initializer = 'he_normal'))\n",
        "        self.add(Conv2D(256,\n",
        "                        kernel_size=(3,3),\n",
        "                        strides = 1,\n",
        "                        padding='same',\n",
        "                        activation='relu',\n",
        "                        kernel_initializer = 'he_normal'))\n",
        "\n",
        "        self.add(Flatten())\n",
        "        self.add(Dense(1024, activation='relu'))\n",
        "        self.add(Dropout(0.5))\n",
        "        self.add(Dense(labels, activation='softmax'))\n",
        "        self.compile(optimizer='RMSprop',\n",
        "                     loss='categorical_crossentropy',\n",
        "                     metrics=['accuracy'])"
      ],
      "metadata": {
        "id": "RlInp81m-kIK"
      },
      "execution_count": null,
      "outputs": []
    },
    {
      "cell_type": "code",
      "source": [
        "(X_train, y_train), (X_test, y_test) = tf.keras.datasets.cifar10.load_data()\n",
        "X_train, X_test = X_train.astype('float32'), X_test.astype('float32')\n",
        "X_train, X_test = X_train / 255., X_test / 255.\n",
        "\n",
        "y_train = tf.keras.utils.to_categorical(y_train, 10)\n",
        "y_test = tf.keras.utils.to_categorical(y_test, 10)\n"
      ],
      "metadata": {
        "id": "BLSlRAwc_1_7"
      },
      "execution_count": null,
      "outputs": []
    },
    {
      "cell_type": "code",
      "source": [
        "model=CNN((32,32,3), 10)"
      ],
      "metadata": {
        "id": "ocVfflmpANuz"
      },
      "execution_count": null,
      "outputs": []
    },
    {
      "cell_type": "code",
      "source": [
        "history = model.fit(X_train, y_train, validation_split=(0.3), epochs=30, batch_size=100)"
      ],
      "metadata": {
        "id": "g4D71tTyAt19"
      },
      "execution_count": null,
      "outputs": []
    }
  ]
}