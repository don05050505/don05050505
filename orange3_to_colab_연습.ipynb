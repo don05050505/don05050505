{
  "nbformat": 4,
  "nbformat_minor": 0,
  "metadata": {
    "colab": {
      "private_outputs": true,
      "provenance": [],
      "mount_file_id": "1STyn-qmJzmkRXGoH5CNCN_TLitqmDn0-",
      "authorship_tag": "ABX9TyPKv+MgzuMxIlzjR3tyd8kx",
      "include_colab_link": true
    },
    "kernelspec": {
      "name": "python3",
      "display_name": "Python 3"
    },
    "language_info": {
      "name": "python"
    }
  },
  "cells": [
    {
      "cell_type": "markdown",
      "metadata": {
        "id": "view-in-github",
        "colab_type": "text"
      },
      "source": [
        "<a href=\"https://colab.research.google.com/github/don05050505/don05050505/blob/main/orange3_to_colab_%EC%97%B0%EC%8A%B5.ipynb\" target=\"_parent\"><img src=\"https://colab.research.google.com/assets/colab-badge.svg\" alt=\"Open In Colab\"/></a>"
      ]
    },
    {
      "cell_type": "code",
      "execution_count": null,
      "metadata": {
        "id": "bpYGqfXs7Czv"
      },
      "outputs": [],
      "source": [
        "!pip install orange3\n",
        "import pickle\n",
        "import Orange"
      ]
    },
    {
      "cell_type": "code",
      "source": [
        "with open('/content/XOR_Adaboost.pkcls', 'rb') as model_file:\n",
        "    model = pickle.load(model_file)\n",
        "\n",
        "# with open(\"model_path\", 'rb') as model_file:\n",
        "#     model = pickle.load(model_file)\n",
        "new_data = Table(\"/content/xor_test.csv\")\n",
        "\n",
        "# Make predictions using the loaded model\n",
        "predictions = model(new_data)\n",
        "print(predictions)"
      ],
      "metadata": {
        "id": "OqBBLHig-GVN"
      },
      "execution_count": null,
      "outputs": []
    },
    {
      "cell_type": "code",
      "source": [
        "# model.load(model_path)\n",
        "\n",
        "# Load new data for prediction (replace this with your actual data loading)\n",
        "new_data = Table(\"/content/xor_test.csv\")\n",
        "\n",
        "# Make predictions using the loaded model\n",
        "predictions = model(new_data)\n",
        "print(predictions)"
      ],
      "metadata": {
        "id": "c4YEskqK8HkN"
      },
      "execution_count": null,
      "outputs": []
    }
  ]
}