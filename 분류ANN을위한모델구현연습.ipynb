{
  "nbformat": 4,
  "nbformat_minor": 0,
  "metadata": {
    "colab": {
      "private_outputs": true,
      "provenance": [],
      "authorship_tag": "ABX9TyOgoBnia0C3XCRc90Q3vD+v",
      "include_colab_link": true
    },
    "kernelspec": {
      "name": "python3",
      "display_name": "Python 3"
    },
    "language_info": {
      "name": "python"
    }
  },
  "cells": [
    {
      "cell_type": "markdown",
      "metadata": {
        "id": "view-in-github",
        "colab_type": "text"
      },
      "source": [
        "<a href=\"https://colab.research.google.com/github/don05050505/don05050505/blob/main/%EB%B6%84%EB%A5%98ANN%EC%9D%84%EC%9C%84%ED%95%9C%EB%AA%A8%EB%8D%B8%EA%B5%AC%ED%98%84%EC%97%B0%EC%8A%B5.ipynb\" target=\"_parent\"><img src=\"https://colab.research.google.com/assets/colab-badge.svg\" alt=\"Open In Colab\"/></a>"
      ]
    },
    {
      "cell_type": "code",
      "execution_count": null,
      "metadata": {
        "id": "bovBUY-2eojx"
      },
      "outputs": [],
      "source": [
        "import keras\n",
        "import tensorflow as tf\n",
        "import numpy as np\n",
        "from keras import layers, models"
      ]
    },
    {
      "cell_type": "code",
      "source": [
        "# 분산방식 모델링을 포함하는 함수형 구현\n",
        "def ANN_models_func(Nin, Nh, Nout):\n",
        "    x = layers.Input(shape=(Nin,))\n",
        "    h = layers.Activation('relu')(layers.Dense(Nh)(x))\n",
        "    y = layers.Activation('softmax')(layers.Dense(Nout)(h))\n",
        "    model = models.Model(x, y)\n",
        "    model.compile(loss = 'categorical_crossentropy', optimizer='adam', metrics=['accuracy'])\n",
        "    return model"
      ],
      "metadata": {
        "id": "tGSX6SFnezFf"
      },
      "execution_count": null,
      "outputs": []
    },
    {
      "cell_type": "code",
      "source": [
        "# 분산방식 모델링을 포함하는 객체지향형 구현\n",
        "class ANN_models_class(models.Model):\n",
        "    def __init__(self, Nin, Nh, Nout):\n",
        "        Hidden = layers.Dense(Nh)\n",
        "        doutput = layers.Dense(Nout)\n",
        "        relu = layers.Activation('relu')\n",
        "        softmax= layers.Activation('softmax')\n",
        "\n",
        "        x = layers.Input(shape=(Nin,))\n",
        "        h = relu(hidden(x))\n",
        "        y = softmax(output(h))\n",
        "\n",
        "        super().__init__(x, y)\n",
        "        self.compile(loss = 'categorical_crossentropy', optimizer='adam', metrics=['accuracy'])"
      ],
      "metadata": {
        "id": "5Le91eC7cSUu"
      },
      "execution_count": null,
      "outputs": []
    },
    {
      "cell_type": "code",
      "source": [
        "# 연쇄방식 모델링을 포함하는 객체지향형 구현\n",
        "class ANN_seq_class(models.Sequential):\n",
        "    def __init__(self, Nin, Nh, Nout):\n",
        "        super().__init__()\n",
        "        self.add(layers.Dense(Nh, activation='relu', input_shape=(Nin,)))\n",
        "        self.add(layers.Dense(Nout, activation='softmax'))\n",
        "        self.compile(loss = 'categorical_crossentropy', optimizer='adam', metrics=['accuracy'])"
      ],
      "metadata": {
        "id": "HqxvSrveaObF"
      },
      "execution_count": null,
      "outputs": []
    }
  ]
}