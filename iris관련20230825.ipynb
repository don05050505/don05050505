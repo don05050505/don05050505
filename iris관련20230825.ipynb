{
  "nbformat": 4,
  "nbformat_minor": 0,
  "metadata": {
    "colab": {
      "private_outputs": true,
      "provenance": [],
      "mount_file_id": "1hFdwzoq_JZic3qdo1PjuDurDuSKpIH07",
      "authorship_tag": "ABX9TyMc+pccnW4MAuYiSoQRjWPJ",
      "include_colab_link": true
    },
    "kernelspec": {
      "name": "python3",
      "display_name": "Python 3"
    },
    "language_info": {
      "name": "python"
    }
  },
  "cells": [
    {
      "cell_type": "markdown",
      "metadata": {
        "id": "view-in-github",
        "colab_type": "text"
      },
      "source": [
        "<a href=\"https://colab.research.google.com/github/don05050505/don05050505/blob/main/iris%EA%B4%80%EB%A0%A820230825.ipynb\" target=\"_parent\"><img src=\"https://colab.research.google.com/assets/colab-badge.svg\" alt=\"Open In Colab\"/></a>"
      ]
    },
    {
      "cell_type": "code",
      "execution_count": null,
      "metadata": {
        "id": "TRU6dsrHyEAz"
      },
      "outputs": [],
      "source": [
        "import pandas as pd\n",
        "import numpy as np\n",
        "df = pd.read_csv(\"/content/iris.csv\")\n",
        "df['one'] = 1\n",
        "# print(df)\n",
        "y = df[['variety']]\n",
        "y['one'] = 0\n",
        "y['two'] = 0\n",
        "y['three'] = 0\n",
        "y['variety'] = np.where(y['variety']=='setosa', 0,\n",
        "                        np.where(y['variety'] == 'virginica', 2,\n",
        "                                 1))\n",
        "\n",
        "y['one'] = np.where(y['variety'] == 0, 1, 0)\n",
        "y['two'] = np.where(y['variety'] == 1, 1, 0)\n",
        "y['three'] = np.where(y['variety'] == 2, 1, 0)\n",
        "y = y[['one', 'two', 'three']]\n",
        "y = y.to_numpy()\n",
        "\n",
        "print(df.columns)\n",
        "df.head()"
      ]
    },
    {
      "cell_type": "code",
      "source": [
        "X = df[['one', 'sepal.length', 'sepal.width', 'petal.length', 'petal.width']]\n",
        "X = X.to_numpy()\n",
        "# print(X.shape)\n",
        "XSquare = X.T@X\n",
        "# print(squareX)\n",
        "invXSquare = np.linalg.inv(XSquare)\n",
        "# print(invSquareX)\n",
        "invXSquareXTransporm = invXSquare@X.T\n",
        "print(invXSquareXTransporm.shape)\n",
        "print(y.shape)\n",
        "B = invXSquareXTransporm @ y\n",
        "print(B.shape)\n",
        "x = X[0, :].reshape([1,5])\n",
        "# print(x)\n",
        "predY = x@B\n",
        "print(predY)"
      ],
      "metadata": {
        "id": "RNu6SY5dyI-E"
      },
      "execution_count": null,
      "outputs": []
    }
  ]
}