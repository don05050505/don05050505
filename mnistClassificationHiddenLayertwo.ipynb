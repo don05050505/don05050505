{
  "nbformat": 4,
  "nbformat_minor": 0,
  "metadata": {
    "colab": {
      "private_outputs": true,
      "provenance": [],
      "gpuType": "T4",
      "include_colab_link": true
    },
    "kernelspec": {
      "name": "python3",
      "display_name": "Python 3"
    },
    "language_info": {
      "name": "python"
    },
    "accelerator": "GPU"
  },
  "cells": [
    {
      "cell_type": "markdown",
      "metadata": {
        "id": "view-in-github",
        "colab_type": "text"
      },
      "source": [
        "<a href=\"https://colab.research.google.com/github/don05050505/don05050505/blob/main/mnistClassificationHiddenLayertwo.ipynb\" target=\"_parent\"><img src=\"https://colab.research.google.com/assets/colab-badge.svg\" alt=\"Open In Colab\"/></a>"
      ]
    },
    {
      "cell_type": "code",
      "execution_count": null,
      "metadata": {
        "id": "qHk3bklJC1_m"
      },
      "outputs": [],
      "source": [
        "import tensorflow as tf\n",
        "\n",
        "\n",
        "class MnistClassificationTwoHiddenLayerModel(tf.keras.Model):\n",
        "    def __init__(self, numOf1HiddenNode, numOf2HiddenNode, numOfOutput):\n",
        "\n",
        "        super(MnistClassificationTwoHiddenLayerModel, self).__init__()\n",
        "\n",
        "        self.hiddenLayer1 = tf.keras.layers.Dense(numOf1HiddenNode,\n",
        "                                                  activation='relu',\n",
        "                                                  kernel_initializer=self.weight_initialization(),\n",
        "                                                  bias_initializer=self.weight_initialization()\n",
        "                                                  )\n",
        "        self.hiddenLayer2 = tf.keras.layers.Dense(numOf2HiddenNode,\n",
        "                                                  activation='relu',\n",
        "                                                  kernel_initializer=self.weight_initialization(),\n",
        "                                                  bias_initializer=self.weight_initialization())\n",
        "\n",
        "        self.outPut = tf.keras.layers.Dense(numOfOutput,\n",
        "                                            activation=None,\n",
        "                                            kernel_initializer=self.weight_initialization(),\n",
        "                                            bias_initializer=self.weight_initialization()\n",
        "                                            )\n",
        "    def weight_initialization(self):\n",
        "        return tf.keras.initializers.RandomNormal(mean=0., stddev=1., seed=None)\n",
        "\n",
        "    def call(self, x): #forward\n",
        "        y1 = self.hiddenLayer1(x)\n",
        "        y2 = self.hiddenLayer2(y1)\n",
        "        y3 = self.outPut(y2)\n",
        "        return y3\n",
        "\n",
        "@tf.function\n",
        "def cross_entropy(y3, y):\n",
        "    return tf.reduce_mean(tf.nn.softmax_cross_entropy_with_logits(logits=y3, labels=y))\n",
        "\n",
        "@tf.function\n",
        "def backward(model, optimizer, x, y):\n",
        "    with tf.GradientTape() as gt:\n",
        "        yPred = model(x)\n",
        "        loss = cross_entropy(yPred, y)\n",
        "    gradz = gt.gradient(loss, model.trainable_variables)\n",
        "    optimizer.apply_gradients(zip(gradz, model.trainable_variables))\n",
        "\n",
        "@tf.function\n",
        "def accuracy(yPred, y):\n",
        "    correction = tf.equal(tf.argmax(yPred, 1), tf.argmax(y, 1))\n",
        "    acc = tf.reduce_mean(tf.cast(correction, tf.float32))\n",
        "    return acc\n",
        "\n",
        "\n",
        "def train_learning(epochs, numBatch, numOfTrain, trainData, model, optimizer, lossFrequence, XTest, yTest):\n",
        "    for epoch in range(epochs):\n",
        "        avgLoss = 0.\n",
        "        totBatch = int(numOfTrain/numBatch)\n",
        "        for bx, by in trainData:\n",
        "            backward(model, optimizer, bx, by)\n",
        "            yPreds = model(bx)\n",
        "            lossBatch = cross_entropy(yPreds, by)\n",
        "            avgLoss += lossBatch/totBatch\n",
        "        if epoch % lossFrequence == 0:\n",
        "            print(f\"Epoch: {epoch+1} ===> Loss: {avgLoss}\")\n",
        "    yPred = model(XTest)\n",
        "    acc = accuracy(yPred, yTest)\n",
        "    print(f\"Accuracy: {acc}\")\n"
      ]
    },
    {
      "cell_type": "code",
      "source": [
        "if __name__ == \"__main__\":\n",
        "    (XTrain, yTrain), (XTest, yTest) = tf.keras.datasets.mnist.load_data()\n",
        "    XTrain, XTest = XTrain.astype('float32'), XTest.astype('float32')\n",
        "    XTrain, XTest = XTrain.reshape([-1, 784]), XTest.reshape([-1, 784])\n",
        "    XTrain, XTest = XTrain / 255., XTest / 255.\n",
        "    yTrain, yTest = tf.one_hot(yTrain, depth=10), tf.one_hot(yTest, depth=10)\n",
        "\n",
        "    learningRate = 0.001\n",
        "    numOfEpochs = 30\n",
        "    numOfBatch = 784\n",
        "    lossFrequence = 1\n",
        "    numOfInput = 784\n",
        "    numOf1HiddenNode = 256\n",
        "    numOf2HiddenNode = 256\n",
        "\n",
        "    numOfOutput = 10\n",
        "    numOfTrain = XTrain.shape[0]\n",
        "\n",
        "    trainData = tf.data.Dataset.from_tensor_slices((XTrain, yTrain))\n",
        "    trainData = trainData.shuffle(60000).batch(numOfBatch)\n",
        "\n",
        "    model = MnistClassificationTwoHiddenLayerModel(numOf1HiddenNode, numOf2HiddenNode, numOfOutput)\n",
        "    optimizer = tf.optimizers.Adam(learningRate)\n",
        "\n",
        "    train_learning(numOfEpochs, numOfBatch, numOfTrain, trainData, model, optimizer, lossFrequence, XTest, yTest)"
      ],
      "metadata": {
        "id": "4GAv1K_FDPFS"
      },
      "execution_count": null,
      "outputs": []
    },
    {
      "cell_type": "code",
      "source": [],
      "metadata": {
        "id": "qVY3yalpD3x4"
      },
      "execution_count": null,
      "outputs": []
    }
  ]
}