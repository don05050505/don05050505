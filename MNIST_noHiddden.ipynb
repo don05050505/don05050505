{
  "nbformat": 4,
  "nbformat_minor": 0,
  "metadata": {
    "colab": {
      "private_outputs": true,
      "provenance": [],
      "authorship_tag": "ABX9TyMWOsnLjs75Xk0g4N2GUzQS",
      "include_colab_link": true
    },
    "kernelspec": {
      "name": "python3",
      "display_name": "Python 3"
    },
    "language_info": {
      "name": "python"
    }
  },
  "cells": [
    {
      "cell_type": "markdown",
      "metadata": {
        "id": "view-in-github",
        "colab_type": "text"
      },
      "source": [
        "<a href=\"https://colab.research.google.com/github/don05050505/don05050505/blob/main/MNIST_noHiddden.ipynb\" target=\"_parent\"><img src=\"https://colab.research.google.com/assets/colab-badge.svg\" alt=\"Open In Colab\"/></a>"
      ]
    },
    {
      "cell_type": "code",
      "execution_count": null,
      "metadata": {
        "id": "49SglPklZgIg"
      },
      "outputs": [],
      "source": [
        "from tensorflow.python.ops.gen_math_ops import Cross\n",
        "from tensorflow.python.eager.backprop import GradientTape\n",
        "import tensorflow as tf\n",
        "from tqdm import tqdm\n",
        "\n",
        "class LinearRegression(tf.keras.Model):\n",
        "    def __init__(self):\n",
        "        super(LinearRegression, self).__init__()\n",
        "        self.one_layer = tf.keras.layers.Dense(10,\n",
        "                                           activation=None,\n",
        "                                           kernel_initializer='zeros', # weight 값\n",
        "                                           bias_initializer= 'zeros')\n",
        "    def call(self, x): # Forward\n",
        "        y1 = self.one_layer(x)\n",
        "        return tf.nn.softmax(y1)\n",
        "\n",
        "@tf.function\n",
        "def cross_entropy(y, d):\n",
        "    return tf.reduce_mean(-tf.reduce_sum(d*tf.math.log(y), axis=[1]))\n",
        "\n",
        "\n",
        "@tf.function\n",
        "def backward(model, optimizers, x, y):\n",
        "    with tf.GradientTape() as gt:\n",
        "        y_pred = model(x)\n",
        "        loss = cross_entropy(y_pred, y)\n",
        "\n",
        "    grad = gt.gradient(loss, model.trainable_variables)\n",
        "    optimizers.apply_gradients(zip(grad, model.trainable_variables))\n",
        "\n",
        "@tf.function\n",
        "def pred_accuracy(y_pred, y):\n",
        "    correction = tf.equal(tf.argmax(y_pred, 1), tf.argmax(y, 1))\n",
        "    accuracy = tf.reduce_mean(tf.cast(correction, tf.float32))\n",
        "    return accuracy\n",
        "\n",
        "@tf.function\n",
        "def train_learning(eps, tdi, mod, opt, xtest, ytest):\n",
        "    for epoch in tqdm(range(eps)):\n",
        "        bx, by = next(tdi)\n",
        "        backward(mod, opt, bx, by)\n",
        "    accuracy = pred_accuracy(model(xtest), ytest)\n",
        "    return accuracy"
      ]
    },
    {
      "cell_type": "code",
      "source": [
        "if __name__ == '__main__':\n",
        "    (X_train,  y_train), (X_test, y_test) = tf.keras.datasets.mnist.load_data()\n",
        "    print(X_train.shape)\n",
        "    X_train, X_test = X_train.astype('float32'), X_test.astype('float32')\n",
        "    X_train, X_test = X_train.reshape([-1, 784]), X_test.reshape([-1, 784])\n",
        "    X_train, X_test = X_train/255.0, X_test/255. # 정규화\n",
        "    y_train, y_test = tf.one_hot(y_train, depth=10), tf.one_hot(y_test, depth=10)\n",
        "\n",
        "    train_data = tf.data.Dataset.from_tensor_slices((X_train, y_train)) #데이터묶음\n",
        "    train_data = train_data.repeat().shuffle(60000).batch(100)\n",
        "    train_data_iter = iter(train_data)\n",
        "    optimizers = tf.optimizers.SGD(0.5)\n",
        "\n",
        "    model = LinearRegression()\n",
        "    epochs = 1000\n",
        "    accuracy = train_learning(epochs, train_data_iter, model, optimizers, X_test, y_test)\n",
        "    print(f\"Accuracy: {accuracy}\")"
      ],
      "metadata": {
        "id": "SVkahzfLfWjt"
      },
      "execution_count": null,
      "outputs": []
    }
  ]
}