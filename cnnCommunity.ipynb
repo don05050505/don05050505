{
  "nbformat": 4,
  "nbformat_minor": 0,
  "metadata": {
    "colab": {
      "private_outputs": true,
      "provenance": [],
      "gpuType": "T4",
      "include_colab_link": true
    },
    "kernelspec": {
      "name": "python3",
      "display_name": "Python 3"
    },
    "language_info": {
      "name": "python"
    },
    "accelerator": "GPU"
  },
  "cells": [
    {
      "cell_type": "markdown",
      "metadata": {
        "id": "view-in-github",
        "colab_type": "text"
      },
      "source": [
        "<a href=\"https://colab.research.google.com/github/don05050505/don05050505/blob/main/cnnCommunity.ipynb\" target=\"_parent\"><img src=\"https://colab.research.google.com/assets/colab-badge.svg\" alt=\"Open In Colab\"/></a>"
      ]
    },
    {
      "cell_type": "code",
      "source": [
        "from google.colab import drive\n",
        "drive.mount('/content/drive')"
      ],
      "metadata": {
        "id": "XCGJjSpe0N7x"
      },
      "execution_count": null,
      "outputs": []
    },
    {
      "cell_type": "code",
      "execution_count": null,
      "metadata": {
        "id": "slqsa25blv8x"
      },
      "outputs": [],
      "source": [
        "# % load_ext tensorboard\n",
        "\n",
        "import numpy as np\n",
        "import tensorflow as tf\n",
        "import matplotlib.pyplot as plt\n",
        "from tensorflow.keras import Model\n",
        "from tensorflow.keras.models import Sequential\n",
        "from tensorflow.keras.utils import to_categorical\n",
        "from tensorflow.keras.losses import categorical_crossentropy\n",
        "from tensorflow.keras.preprocessing.image import ImageDataGenerator\n",
        "from tensorflow.keras.layers import Dense, Dropout, Flatten, Conv2D, MaxPooling2D\n",
        "\n",
        "path = \"/content/drive/MyDrive/doh_colab/projects\""
      ]
    },
    {
      "cell_type": "code",
      "source": [
        "class CNN(Sequential):\n",
        "  def __init__(self, input_shape, num_classes): #input image = 28 x 28 x 1\n",
        "    super().__init__()\n",
        "\n",
        "    self.add(Conv2D(32, kernel_size=(5,5),strides=1,\n",
        "                    padding='same',activation='relu',\n",
        "                    input_shape=input_shape,\n",
        "                    kernel_initializer='he_normal'))\n",
        "\n",
        "    self.add(MaxPooling2D(pool_size=(2,2), strides=(2,2),\n",
        "                          padding='valid', data_format='channels_last'))\n",
        "\n",
        "    self.add(Conv2D(64, kernel_size=(5,5), strides=1,\n",
        "                          padding='same', activation='relu',\n",
        "                          kernel_initializer='he_normal'))\n",
        "\n",
        "    self.add(MaxPooling2D(pool_size=(2,2), strides=(2,2),\n",
        "                          padding='valid', data_format='channels_last'))\n",
        "\n",
        "\n",
        "    self.add(Flatten())\n",
        "    self.add(Dense(1024, activation='relu'))\n",
        "    self.add(tf.keras.layers.Dropout(0.3))\n",
        "\n",
        "    self.add(Dense(num_classes, activation='softmax'))\n",
        "\n",
        "    self.compile(optimizer='adam',\n",
        "                 loss='categorical_crossentropy',\n",
        "                 metrics=['accuracy'])\n",
        "\n",
        "\n"
      ],
      "metadata": {
        "id": "4_0eubXVl49e"
      },
      "execution_count": null,
      "outputs": []
    },
    {
      "cell_type": "code",
      "source": [
        "num_of_classes = 10\n",
        "(XTrain, yTrain), (XTest, yTest) = tf.keras.datasets.mnist.load_data()\n",
        "XTrain, XTest = XTrain.astype('float32'), XTest.astype('float32')\n",
        "XTrain, XTest = XTrain.reshape([-1, 28, 28, 1]), XTest.reshape([-1, 28, 28, 1])\n",
        "XTrain, XTest = XTrain/255., XTest/255.\n",
        "yTrain = tf.keras.utils.to_categorical(yTrain, num_of_classes)\n",
        "yTest = tf.keras.utils.to_categorical(yTest, num_of_classes)"
      ],
      "metadata": {
        "id": "JpGtknwzpvAZ"
      },
      "execution_count": null,
      "outputs": []
    },
    {
      "cell_type": "code",
      "source": [
        "model = CNN((28,28,1), num_of_classes)\n",
        "model.summary()"
      ],
      "metadata": {
        "id": "_o_T4RbGmLTs"
      },
      "execution_count": null,
      "outputs": []
    },
    {
      "cell_type": "code",
      "source": [
        "\n",
        "tensorboard_callback = tf.keras.callbacks.TensorBoard(log_dir=f\"{path}/logs\")\n",
        "history = model.fit(XTrain, yTrain, validation_split=(0.2), epochs=1, batch_size=50, callbacks=[tensorboard_callback])"
      ],
      "metadata": {
        "id": "VUdqbuXmmPJ1"
      },
      "execution_count": null,
      "outputs": []
    },
    {
      "cell_type": "code",
      "source": [
        "!pip install tensorboard\n",
        "%load_ext tensorboard\n",
        "%tensorboard --logdir f\"{path}/logs\""
      ],
      "metadata": {
        "id": "10T9qg0uZrxF"
      },
      "execution_count": null,
      "outputs": []
    },
    {
      "cell_type": "code",
      "source": [
        "model.save(f\"{path}myModel_mnmist_CNN_tensor2.12.0_v0\")"
      ],
      "metadata": {
        "id": "nFc3oee-xPOD"
      },
      "execution_count": null,
      "outputs": []
    },
    {
      "cell_type": "code",
      "source": [
        "results = model.evaluate(XTest, yTest, batch_size=100)\n",
        "model.save(f\"{path}myModel_Cifar_CNN_tensor2.12.0_v0\")"
      ],
      "metadata": {
        "id": "OXoANhG_xboI"
      },
      "execution_count": null,
      "outputs": []
    },
    {
      "cell_type": "code",
      "source": [
        "input_data = XTest[0]  # Assuming XTest contains your input data\n",
        "input_data = np.expand_dims(input_data, axis=0)  # Add a batch dimension for a single sample\n",
        "\n",
        "pred = model.predict(input_data)\n",
        "label = np.argmax(pred, axis=1)\n",
        "percs = np.max(pred, axis=1)\n",
        "print(label, percs)\n"
      ],
      "metadata": {
        "id": "iigLraUd20PN"
      },
      "execution_count": null,
      "outputs": []
    },
    {
      "cell_type": "code",
      "source": [
        "y_vloss = history.history['val_loss']  # 검증 세트의 오차\n",
        "y_loss = history.history['loss']  #  학습 세트의 오차"
      ],
      "metadata": {
        "id": "Nh5_DX3dmRrN"
      },
      "execution_count": null,
      "outputs": []
    },
    {
      "cell_type": "code",
      "source": [
        "x_len = np.arange(len(y_loss))\n",
        "plt.plot(x_len, y_vloss, marker='.', c='red', label='Test_Set_Loss')\n",
        "plt.plot(x_len, y_loss, marker='^', c='green', label='Train_Set_Loss')\n",
        "plt.legend(loc='upper right')\n",
        "# plt.axis([0, 20, 0, 0.35])\n",
        "plt.grid()\n",
        "plt.xlabel('epoch')\n",
        "plt.ylabel('loss')\n",
        "save_image('cnnMnist')\n",
        "plt.show()"
      ],
      "metadata": {
        "id": "j3OdV7HTmVN9"
      },
      "execution_count": null,
      "outputs": []
    },
    {
      "cell_type": "code",
      "source": [
        "import os\n",
        "\n",
        "import matplotlib.pyplot as plt\n",
        "\n",
        "path = '/content/drive/MyDrive/doh_colab/projects'\n",
        "def save_image(series, flag=True, extension='png', resolution=300):\n",
        "    if not os.path.isdir(path): os.makedirs(path)\n",
        "    imagePath = os.path.join(path, f\"{series}.{extension}\")\n",
        "    print(f\"Save Image: {series}\")\n",
        "    if flag: plt.tight_layout()\n",
        "    plt.savefig(imagePath, format=extension, dpi=resolution)"
      ],
      "metadata": {
        "id": "5NxNCVFhyQ6N"
      },
      "execution_count": null,
      "outputs": []
    }
  ]
}