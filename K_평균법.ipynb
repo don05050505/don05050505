{
  "nbformat": 4,
  "nbformat_minor": 0,
  "metadata": {
    "colab": {
      "private_outputs": true,
      "provenance": [],
      "mount_file_id": "1EI-inWwwXKaJFvJVwlr_LR3AqOla1xEm",
      "authorship_tag": "ABX9TyP4R+hzEU4/egAcUGyBkTkK",
      "include_colab_link": true
    },
    "kernelspec": {
      "name": "python3",
      "display_name": "Python 3"
    },
    "language_info": {
      "name": "python"
    }
  },
  "cells": [
    {
      "cell_type": "markdown",
      "metadata": {
        "id": "view-in-github",
        "colab_type": "text"
      },
      "source": [
        "<a href=\"https://colab.research.google.com/github/don05050505/don05050505/blob/main/K_%ED%8F%89%EA%B7%A0%EB%B2%95.ipynb\" target=\"_parent\"><img src=\"https://colab.research.google.com/assets/colab-badge.svg\" alt=\"Open In Colab\"/></a>"
      ]
    },
    {
      "cell_type": "code",
      "source": [
        "import pandas as pd\n",
        "import numpy as np\n",
        "from sklearn.cluster import KMeans\n",
        "from sklearn.datasets import load_iris\n",
        "\n",
        "iris = load_iris()\n",
        "iris_df = pd.DataFrame(iris.data, columns=iris.feature_names)\n",
        "iris_df.head()"
      ],
      "metadata": {
        "id": "K2yVczVBJ007"
      },
      "execution_count": null,
      "outputs": []
    },
    {
      "cell_type": "code",
      "source": [
        "iris = load_iris()\n",
        "iris_df = pd.DataFrame(iris.data, columns=iris.feature_names)\n",
        "iris_df['class'] = iris.target\n",
        "iris_df.head()"
      ],
      "metadata": {
        "id": "RCtNhig8LCO5"
      },
      "execution_count": null,
      "outputs": []
    },
    {
      "cell_type": "code",
      "source": [
        "import seaborn as sns\n",
        "\n",
        "sns.pairplot(iris_df, hue='class')"
      ],
      "metadata": {
        "id": "-ygZ5g_1L4AK"
      },
      "execution_count": null,
      "outputs": []
    },
    {
      "cell_type": "code",
      "source": [
        "model = KMeans(n_clusters=3)\n",
        "model.fit(iris.data)"
      ],
      "metadata": {
        "id": "3j0rL0tvM-OK"
      },
      "execution_count": null,
      "outputs": []
    },
    {
      "cell_type": "code",
      "source": [
        "import matplotlib.pyplot as plt\n",
        "axis_1 = 2\n",
        "axis_2 = 3\n",
        "\n",
        "group_0 = iris.data[model.labels_ == 0]\n",
        "plt.scatter(group_0[:, axis_1], group_0[:, axis_2], marker='x')\n",
        "\n",
        "group_1 = iris.data[model.labels_ == 1]\n",
        "plt.scatter(group_1[:, axis_1], group_1[:, axis_2], marker='.')\n",
        "\n",
        "group_2 = iris.data[model.labels_ == 2]\n",
        "plt.scatter(group_2[:, axis_1], group_2[:, axis_2], marker='+')\n",
        "\n",
        "plt.xlabel(iris.feature_names[axis_1])\n",
        "plt.ylabel(iris.feature_names[axis_2])\n",
        "plt.show()"
      ],
      "metadata": {
        "id": "1wLl56HoNd8p"
      },
      "execution_count": null,
      "outputs": []
    },
    {
      "cell_type": "code",
      "source": [
        "axis_1 = 2\n",
        "axis_2 = 3\n",
        "\n",
        "group_0 = iris.data[iris.target == 0]\n",
        "plt.scatter(group_0[:, axis_1], group_0[:, axis_2], marker='.')\n",
        "\n",
        "group_1 = iris.data[iris.target == 1]\n",
        "plt.scatter(group_1[:, axis_1], group_1[:, axis_2], marker='+')\n",
        "\n",
        "group_2 = iris.data[iris.target == 2]\n",
        "plt.scatter(group_2[:, axis_1], group_2[:, axis_2], marker='x')\n",
        "\n",
        "plt.xlabel(iris.feature_names[axis_1])\n",
        "plt.ylabel(iris.feature_names[axis_2])\n",
        "plt.show()"
      ],
      "metadata": {
        "id": "YN_9hQGtRUtK"
      },
      "execution_count": null,
      "outputs": []
    }
  ]
}