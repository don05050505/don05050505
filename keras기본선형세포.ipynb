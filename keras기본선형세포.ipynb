{
  "nbformat": 4,
  "nbformat_minor": 0,
  "metadata": {
    "colab": {
      "private_outputs": true,
      "provenance": [],
      "authorship_tag": "ABX9TyMSBXUiJNp73JfKCPYLY3fb",
      "include_colab_link": true
    },
    "kernelspec": {
      "name": "python3",
      "display_name": "Python 3"
    },
    "language_info": {
      "name": "python"
    }
  },
  "cells": [
    {
      "cell_type": "markdown",
      "metadata": {
        "id": "view-in-github",
        "colab_type": "text"
      },
      "source": [
        "<a href=\"https://colab.research.google.com/github/don05050505/don05050505/blob/main/keras%EA%B8%B0%EB%B3%B8%EC%84%A0%ED%98%95%EC%84%B8%ED%8F%AC.ipynb\" target=\"_parent\"><img src=\"https://colab.research.google.com/assets/colab-badge.svg\" alt=\"Open In Colab\"/></a>"
      ]
    },
    {
      "cell_type": "code",
      "execution_count": null,
      "metadata": {
        "id": "bovBUY-2eojx"
      },
      "outputs": [],
      "source": [
        "import keras\n",
        "import tensorflow as tf\n",
        "import numpy as np"
      ]
    },
    {
      "cell_type": "code",
      "source": [
        "x= np.array([0,1,2,3,4,])\n",
        "y= x*3 + 1\n",
        "print(y)"
      ],
      "metadata": {
        "id": "tGSX6SFnezFf"
      },
      "execution_count": null,
      "outputs": []
    },
    {
      "cell_type": "code",
      "source": [
        "model= keras.models.Sequential()\n",
        "model.add(keras.layers.Dense(1, input_shape=(1,)))\n",
        "model.compile('SGD', 'mse')\n",
        "model.fit(x[:2], y[:2], epochs=1000, verbose=0)\n",
        "print(y[:2])\n",
        "print(model.predict(x[2:]).flatten())"
      ],
      "metadata": {
        "id": "tb2NIqXwfR8K"
      },
      "execution_count": null,
      "outputs": []
    }
  ]
}