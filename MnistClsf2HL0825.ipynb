{
  "nbformat": 4,
  "nbformat_minor": 0,
  "metadata": {
    "colab": {
      "private_outputs": true,
      "provenance": [],
      "authorship_tag": "ABX9TyM+g14yJLeaxIgsnSBQGs5J",
      "include_colab_link": true
    },
    "kernelspec": {
      "name": "python3",
      "display_name": "Python 3"
    },
    "language_info": {
      "name": "python"
    }
  },
  "cells": [
    {
      "cell_type": "markdown",
      "metadata": {
        "id": "view-in-github",
        "colab_type": "text"
      },
      "source": [
        "<a href=\"https://colab.research.google.com/github/don05050505/don05050505/blob/main/MnistClsf2HL0825.ipynb\" target=\"_parent\"><img src=\"https://colab.research.google.com/assets/colab-badge.svg\" alt=\"Open In Colab\"/></a>"
      ]
    },
    {
      "cell_type": "code",
      "source": [
        "import tensorflow as tf\n",
        "from tensorflow.keras.initializers import RandomNormal\n",
        "\n",
        "class MnistClassificationTwoHiddenLayerModel(tf.keras.Model):\n",
        "    def __init__(self, numOf1HiddenNode, numOf2HiddenNode, numOfOutput):\n",
        "        super(MnistClassificationTwoHiddenLayerModel, self).__init__()\n",
        "\n",
        "        self.hiddenLayer1 = tf.keras.layers.Dense(numOf1HiddenNode, activation='relu')\n",
        "        self.hiddenLayer2 = tf.keras.layers.Dense(numOf2HiddenNode, activation='relu')\n",
        "        self.outPut = tf.keras.layers.Dense(numOfOutput, activation='linear')  # Linear activation for logits\n",
        "\n",
        "    def call(self, x): #forward\n",
        "        y1 = self.hiddenLayer1(x)\n",
        "        y2 = self.hiddenLayer2(y1)\n",
        "        y3 = self.outPut(y2)\n",
        "        return y3\n",
        "\n",
        "@tf.function\n",
        "def cross_entropy(ypred, y):\n",
        "    return tf.reduce_mean(tf.nn.softmax_cross_entropy_with_logits(logits=ypred, labels=y))\n",
        "\n",
        "@tf.function\n",
        "def backward(model, optimizer, x, y):\n",
        "    with tf.GradientTape() as gt:\n",
        "        yPred = model(x)\n",
        "        loss = cross_entropy(yPred, y)\n",
        "    gradz = gt.gradient(loss, model.trainable_variables)\n",
        "    optimizer.apply_gradients(zip(gradz, model.trainable_variables))\n",
        "\n",
        "@tf.function\n",
        "def accuracy(yPred, y):\n",
        "    correction = tf.equal(tf.argmax(yPred, 1), tf.argmax(y, 1))\n",
        "    acc = tf.reduce_mean(tf.cast(correction, tf.float32))\n",
        "    return acc\n",
        "\n",
        "# Load and preprocess the MNIST dataset\n",
        "mnist = tf.keras.datasets.mnist\n",
        "(train_images, train_labels), (test_images, test_labels) = mnist.load_data()\n",
        "train_images, test_images = train_images / 255.0, test_images / 255.0\n",
        "train_images = train_images.reshape(train_images.shape[0], -1)\n",
        "test_images = test_images.reshape(test_images.shape[0], -1)\n",
        "train_labels = tf.one_hot(train_labels, depth=10)\n",
        "test_labels = tf.one_hot(test_labels, depth=10)\n",
        "batch_size = 64\n",
        "train_dataset = tf.data.Dataset.from_tensor_slices((train_images, train_labels)).shuffle(buffer_size=10000).batch(batch_size)\n",
        "test_dataset = tf.data.Dataset.from_tensor_slices((test_images, test_labels)).batch(batch_size)\n",
        "\n",
        "# Define your model\n",
        "model = MnistClassificationTwoHiddenLayerModel(numOf1HiddenNode=128, numOf2HiddenNode=64, numOfOutput=10)\n",
        "\n",
        "# Define an optimizer\n",
        "optimizer = tf.keras.optimizers.Adam(learning_rate=0.001)\n",
        "\n",
        "# Training loop\n",
        "num_epochs = 10\n",
        "for epoch in range(num_epochs):\n",
        "    for x_batch, y_batch in train_dataset:\n",
        "        backward(model, optimizer, x_batch, y_batch)\n",
        "\n",
        "    # Calculate and display accuracy after each epoch\n",
        "    acc_sum = 0\n",
        "    num_batches = 0\n",
        "    for x_test_batch, y_test_batch in test_dataset:\n",
        "        y_test_pred = model(x_test_batch)\n",
        "        acc = accuracy(y_test_pred, y_test_batch)\n",
        "        acc_sum += acc\n",
        "        num_batches += 1\n",
        "    avg_acc = acc_sum / num_batches\n",
        "    print(f\"Epoch {epoch+1}, Average Test Accuracy: {avg_acc}\")\n"
      ],
      "metadata": {
        "id": "3R6Qvxp-NnwS"
      },
      "execution_count": null,
      "outputs": []
    }
  ]
}