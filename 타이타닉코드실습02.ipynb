{
  "nbformat": 4,
  "nbformat_minor": 0,
  "metadata": {
    "colab": {
      "private_outputs": true,
      "provenance": [],
      "mount_file_id": "1j7-jsYXE5bKgUlw8io-GqyiUdVLYL5vm",
      "authorship_tag": "ABX9TyMROZf0sl9pI7xSYbdnJg+8",
      "include_colab_link": true
    },
    "kernelspec": {
      "name": "python3",
      "display_name": "Python 3"
    },
    "language_info": {
      "name": "python"
    }
  },
  "cells": [
    {
      "cell_type": "markdown",
      "metadata": {
        "id": "view-in-github",
        "colab_type": "text"
      },
      "source": [
        "<a href=\"https://colab.research.google.com/github/don05050505/don05050505/blob/main/%ED%83%80%EC%9D%B4%ED%83%80%EB%8B%89%EC%BD%94%EB%93%9C%EC%8B%A4%EC%8A%B502.ipynb\" target=\"_parent\"><img src=\"https://colab.research.google.com/assets/colab-badge.svg\" alt=\"Open In Colab\"/></a>"
      ]
    },
    {
      "cell_type": "code",
      "execution_count": null,
      "metadata": {
        "id": "05_QGfL0JQ6R"
      },
      "outputs": [],
      "source": [
        "import numpy as np\n",
        "import pandas as pd\n",
        "from sklearn.linear_model import LogisticRegression\n",
        "\n",
        "train = pd.read_csv('/content/drive/MyDrive/데이터전처리실습/실습데이터/타이타닉/train.csv')\n",
        "test = pd.read_csv('/content/drive/MyDrive/데이터전처리실습/실습데이터/타이타닉/test.csv')\n",
        "gender_submission = pd.read_csv('/content/drive/MyDrive/데이터전처리실습/실습데이터/타이타닉/gender_submission.csv')\n",
        "train.head()"
      ]
    },
    {
      "cell_type": "code",
      "source": [
        "test.insert(1, 'Survived', None)\n",
        "print(test.shape)\n",
        "print(test.columns)\n",
        "print(test.isnull().any(axis=0))\n",
        "print(test.isnull().any(axis=1))\n",
        "print(test.isnull().sum(axis=0))\n",
        "print(test.isnull().sum(axis=1))"
      ],
      "metadata": {
        "id": "l0pd79D7CgnY"
      },
      "execution_count": null,
      "outputs": []
    },
    {
      "cell_type": "code",
      "source": [],
      "metadata": {
        "id": "ZEVMA751P5Wf"
      },
      "execution_count": null,
      "outputs": []
    },
    {
      "cell_type": "code",
      "source": [
        "#데이터 탐색\n",
        "print(train.shape)\n",
        "print(train.columns)\n",
        "print(train.isnull().any(axis=0))\n",
        "print(train.isnull().any(axis=1))\n",
        "print(train.isnull().sum(axis=0))\n",
        "print(train.isnull().sum(axis=1))\n",
        "print(train.describe())"
      ],
      "metadata": {
        "id": "ryTsaub-whkJ"
      },
      "execution_count": null,
      "outputs": []
    },
    {
      "cell_type": "code",
      "source": [
        "# 데이터 전처리\n",
        "#Embarked의 2개 결손값 'Unknown'으로 보완.\n",
        "train['Embarked'].fillna('Unknown', inplace=True)\n",
        "\n",
        "#Cabin의 결손값 687개를 'Unknown'으로 보완\n",
        "# train = train.fillna({'Cabin': 'Unknown'},  inplace=True) ,<-- 아래코드와 같지만, 비효율적\n",
        "train['Cabin'].fillna('Unknown', inplace=True)\n",
        "\n",
        "#Age의 결손 값을 중간값으로 보완\n",
        "train['Age'].fillna(train['Age'].median(), inplace=True)\n",
        "\n",
        "# Fare의 결손 값을 중간값으로 보완\n",
        "train['Fare'].fillna(train['Fare'].median(), inplace=True)\n",
        "\n",
        "train_df = pd.get_dummies(train)\n",
        "\n",
        "print(train_df.isnull().any(axis=0))\n",
        "print(train_df.isnull().any(axis=1))\n",
        "print(train_df.isnull().sum(axis=0))\n",
        "print(train_df.isnull().sum(axis=1))\n",
        "print(train_df.columns)"
      ],
      "metadata": {
        "id": "PhbUQdJX1bkS"
      },
      "execution_count": null,
      "outputs": []
    },
    {
      "cell_type": "code",
      "source": [
        "data_df = pd.concat([train, test], sort=False)\n",
        "data_df['Sex'] = data_df['Sex'].replace({'male': 0, 'female': 1})\n",
        "data_df=pd.get_dummies(data_df, columns=['Ticket'])\n",
        "data_df=pd.get_dummies(data_df, columns=['Cabin'])\n",
        "data_df=pd.get_dummies(data_df, columns=['Embarked'])\n",
        "\n",
        "data_df['Fare'].fillna(np.mean(data_df['Fare']), inplace=True)\n",
        "data_df = data_df.fillna('100')\n",
        "# data_df = data_df.drop(data_df[data_df['Name'] == 'Braund, Mr. Owen Harris'].index) 행제거\n",
        "# 아래는 name 열제거\n",
        "data_df = data_df.drop('Name', axis=1)\n",
        "data_df.head()"
      ],
      "metadata": {
        "id": "aYQBxS_qLuCr"
      },
      "execution_count": null,
      "outputs": []
    },
    {
      "cell_type": "code",
      "source": [
        "# model = LogisticRegression(penalty='l2', solver='sag', random_state=0)\n",
        "# model.fit(data_df)\n",
        "\n",
        "model = LogisticRegression(penalty='l2', solver='sag', random_state=0)\n",
        "\n",
        "# y = data_df['Survived']\n",
        "y = data_df['Survived'].astype('int')\n",
        "\n",
        "\n",
        "model.fit(data_df, y)"
      ],
      "metadata": {
        "id": "pzd4MGumRvsZ"
      },
      "execution_count": null,
      "outputs": []
    },
    {
      "cell_type": "code",
      "source": [
        "X_test = pd.read_csv('/content/drive/MyDrive/데이터전처리실습/실습데이터/타이타닉/test.csv')\n",
        "y_pred = model.predict(X_test)"
      ],
      "metadata": {
        "id": "ucPvk2ZMcH0L"
      },
      "execution_count": null,
      "outputs": []
    }
  ]
}