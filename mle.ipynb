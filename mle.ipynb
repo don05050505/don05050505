{
  "nbformat": 4,
  "nbformat_minor": 0,
  "metadata": {
    "colab": {
      "private_outputs": true,
      "provenance": [],
      "mount_file_id": "1_xlKNkEXX10IsPJ3LyH4jPef6i1RmW2V",
      "authorship_tag": "ABX9TyOqPJ9p1Qf0rGvtQhat4Fbo",
      "include_colab_link": true
    },
    "kernelspec": {
      "name": "python3",
      "display_name": "Python 3"
    },
    "language_info": {
      "name": "python"
    }
  },
  "cells": [
    {
      "cell_type": "markdown",
      "metadata": {
        "id": "view-in-github",
        "colab_type": "text"
      },
      "source": [
        "<a href=\"https://colab.research.google.com/github/don05050505/don05050505/blob/main/mle.ipynb\" target=\"_parent\"><img src=\"https://colab.research.google.com/assets/colab-badge.svg\" alt=\"Open In Colab\"/></a>"
      ]
    },
    {
      "cell_type": "code",
      "source": [
        "import nltk\n",
        "nltk.download('all', quiet=True)"
      ],
      "metadata": {
        "id": "Hbgc9vCznZ2b"
      },
      "execution_count": null,
      "outputs": []
    },
    {
      "cell_type": "code",
      "source": [
        "import os\n",
        "import requests\n",
        "import io\n",
        "\n",
        "# Text version of https://kilgarriff.co.uk/Publications/2005-K-lineer.pdf\n",
        "if os.path.isfile('language-never-random.txt'):\n",
        "    with io.open('language-never-random.txt', encoding='utf8') as fin:\n",
        "        text = fin.read()\n",
        "else:\n",
        "    url = \"https://gist.githubusercontent.com/alvations/53b01e4076573fea47c6057120bb017a/raw/b01ff96a5f76848450e648f35da6497ca9454e4a/language-never-random.txt\"\n",
        "    text = requests.get(url).content.decode('utf8')\n",
        "    with io.open('language-never-random.txt', 'w', encoding='utf8') as fout:\n",
        "        fout.write(text)"
      ],
      "metadata": {
        "id": "Poh42FR5mV0r"
      },
      "execution_count": null,
      "outputs": []
    },
    {
      "cell_type": "code",
      "source": [
        "!pip install nltk\n",
        "!pip install konlpy"
      ],
      "metadata": {
        "id": "j_zfAcgBnGRM"
      },
      "execution_count": null,
      "outputs": []
    },
    {
      "cell_type": "code",
      "source": [
        "text = '''최근 멕시코 의회에서 ‘외계인’이라고 주장되는 사체가 공개된 가운데, 미 항공우주국(NASA) 미확인비행현상(UAP) 연구진이 이에 대한 의견을 내놨다고 스페이스닷컴이 15일(현지시간) 보도했다.\n",
        "\n",
        "영국 BBC 뉴스 샘 카브랄 저널리스트는 데이비드 스파르겔 NASA UAP 연구팀 의장에 최근 멕시코 의회에서 공개된 외계인 사체에 대해 물으며, 멕시코 당국과 접촉했는 지를 물었다.\n",
        "\n",
        "\n",
        "최근 멕시코 의회에서 외계인 사체라고 주장되는 시신 2구가 공개됐다. (출처 : 엑스@unsung_sanatani)\n",
        "\n",
        "데이비드 스파르겔은 “만약 외계인 유골의 증거가 있다면, 그 자료를 가진 사람들은 연구를 위해 이를 공개적으로 제공해야 한다”고 답했다.\n",
        "\n",
        "그는 \"특이한 일이 발생하면 데이터를 공개하고 싶을 것\"이라며, \"NASA가 귀중한 샘플 중 하나인 달 암석을 가지고 있다면 어떻게 할까? 우리는 이를 연구하고자 하는 모든 과학자들이 사용할 수 있도록 할 것”이라고 밝혔다. 또, 자신이 멕시코 정부라면 NASA와 세계 과학계에 샘플을 제공해 연구토록 할 것이라고 덧붙였다.\n",
        "\n",
        "댄 에반스 NASA 과학임무국 연구 부차관보는 “멕시코 의회가 보여준 선정주의와 사이비 과학의 유형을 불식시키는 것이 NASA UAP 연구팀의 요점”이라고 밝히며, 공개된 사체가 외계인일 가능성이 희박하다고 암시했다.\n",
        "\n",
        "“우리가 하려는 일의 주요 목표 중 하나는 추측과 음모를 과학과 정신으로 옮기는 것\"이라며, “데이터를 통해 그렇게 할 수 있으며, 이것이 UAP 연구의 목적\"이라고 밝혔다.\n",
        "\n",
        "\n",
        "멕시코서 공개되는 외계인 사체 (영상=엑스 @Radio_Formula)\n",
        "\n",
        "최근 공개된 외계인 사체는 언론인이자 UFO 연구원인 제이미 마우산이 가지고 온 것으로, 그는 이 사체가 페루 광산에서 발견됐다고 설명했다.\n",
        "\n",
        "제이미 마우산은 과거에도 외계인 사체가 발견됐다고 주장했으나 사실이 아닌 것으로 밝혀진 적이 있다. 과거 그가 주장한 사체도 어린아이의 미라로 밝혀진 적이 있어 이번 그의 주장도 회의적이라는 게 외신들의 분석이다.'''"
      ],
      "metadata": {
        "id": "rD9BZTzZzLy2"
      },
      "execution_count": null,
      "outputs": []
    },
    {
      "cell_type": "code",
      "source": [
        "print(text)"
      ],
      "metadata": {
        "id": "3qzFYJNEmoMN"
      },
      "execution_count": null,
      "outputs": []
    },
    {
      "cell_type": "code",
      "source": [
        "from konlpy.tag import Hannanum\n",
        "\n",
        "# 한나눔 형태소 분석기 객체 생성\n",
        "hannanum = Hannanum()\n",
        "\n",
        "# 텍스트를 형태소로 분석하기\n",
        "# text = \"안녕하세요, 자연어 처리를 공부하고 있습니다.\"\n",
        "words = hannanum.nouns(text)\n",
        "\n",
        "# 형태소 분석 결과 출력\n",
        "print(words)\n"
      ],
      "metadata": {
        "id": "j1CES5cJ1PFc"
      },
      "execution_count": null,
      "outputs": []
    },
    {
      "cell_type": "code",
      "source": [
        "# from nltk import word_tokenize, sent_tokenize\n",
        "# # sentences = sent_tokenize(text)\n",
        "# # # print(len(sentences))\n",
        "# # totWord = []\n",
        "# # for sentence in sentences:\n",
        "# #     words = word_tokenize(sentence)\n",
        "# #     words = list(map(str.lower. words))\n",
        "# #     totWord = totWord + words\n",
        "\n",
        "\n",
        "# tokens = [list(map(str.lower, word_tokenize(sent))) for sent in sent_tokenize(text)]\n",
        "\n",
        "# print(tokens)\n",
        "\n",
        "from konlpy.tag import Okt\n",
        "\n",
        "# 한글 텍스트\n",
        "# text = \"안녕하세요, KoNLPy를 사용한 한글 형태소 분석입니다.\"\n",
        "\n",
        "# Okt 형태소 분석기 객체 생성\n",
        "okt = Okt()\n",
        "\n",
        "# 문장을 형태소로 분석하고 토큰화\n",
        "# sentences = text\n",
        "tokens = [okt.morphs(sentence.lower()) for sentence in sentences]\n",
        "\n",
        "print(tokens)\n"
      ],
      "metadata": {
        "id": "kDqGgiAXnmIq"
      },
      "execution_count": null,
      "outputs": []
    },
    {
      "cell_type": "code",
      "source": [
        "from nltk.lm.preprocessing import padded_everygram_pipeline\n",
        "n = 4\n",
        "train_data, padded_sents = padded_everygram_pipeline(n, tokens)"
      ],
      "metadata": {
        "id": "L3go6bKzshYh"
      },
      "execution_count": null,
      "outputs": []
    },
    {
      "cell_type": "code",
      "source": [
        "train_data"
      ],
      "metadata": {
        "id": "anzlUJjetHIf"
      },
      "execution_count": null,
      "outputs": []
    },
    {
      "cell_type": "code",
      "source": [
        "from nltk.lm import MLE\n",
        "model = MLE(n)"
      ],
      "metadata": {
        "id": "YIquAF4HtR1Y"
      },
      "execution_count": null,
      "outputs": []
    },
    {
      "cell_type": "code",
      "source": [
        "model.fit(train_data, padded_sents)\n",
        "print(list(model.vocab))"
      ],
      "metadata": {
        "id": "N3P3tFAKt06x"
      },
      "execution_count": null,
      "outputs": []
    },
    {
      "cell_type": "code",
      "source": [
        "model.counts[['외계인', '사체']]['주장']"
      ],
      "metadata": {
        "id": "vOynCZTuusH3"
      },
      "execution_count": null,
      "outputs": []
    },
    {
      "cell_type": "code",
      "source": [
        "model.score('외계인')"
      ],
      "metadata": {
        "id": "wZ16d_vqwMMa"
      },
      "execution_count": null,
      "outputs": []
    },
    {
      "cell_type": "code",
      "source": [
        "model.score('주장', '외계인'.split())"
      ],
      "metadata": {
        "id": "SmXXxihKw7m_"
      },
      "execution_count": null,
      "outputs": []
    },
    {
      "cell_type": "code",
      "source": [
        "model.score('never', 'language is'.split())"
      ],
      "metadata": {
        "id": "Vg9ilgK1xGPF"
      },
      "execution_count": null,
      "outputs": []
    },
    {
      "cell_type": "code",
      "source": [],
      "metadata": {
        "id": "OVh65MH0xqnT"
      },
      "execution_count": null,
      "outputs": []
    }
  ]
}