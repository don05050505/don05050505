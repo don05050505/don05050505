{
  "nbformat": 4,
  "nbformat_minor": 0,
  "metadata": {
    "colab": {
      "private_outputs": true,
      "provenance": [],
      "mount_file_id": "1EI-inWwwXKaJFvJVwlr_LR3AqOla1xEm",
      "authorship_tag": "ABX9TyN8nZSIonPW/HodZHeXT+4c",
      "include_colab_link": true
    },
    "kernelspec": {
      "name": "python3",
      "display_name": "Python 3"
    },
    "language_info": {
      "name": "python"
    }
  },
  "cells": [
    {
      "cell_type": "markdown",
      "metadata": {
        "id": "view-in-github",
        "colab_type": "text"
      },
      "source": [
        "<a href=\"https://colab.research.google.com/github/don05050505/don05050505/blob/main/SVM(%EC%84%9C%ED%8F%AC%ED%8A%B8%EB%B2%A1%ED%84%B0%EB%A8%B8%EC%8B%A0).ipynb\" target=\"_parent\"><img src=\"https://colab.research.google.com/assets/colab-badge.svg\" alt=\"Open In Colab\"/></a>"
      ]
    },
    {
      "cell_type": "code",
      "source": [
        "import pandas as pd\n",
        "import numpy as np\n",
        "# from sklearn.cluster import svm\n",
        "from sklearn.datasets import load_wine\n",
        "\n",
        "wine = load_wine()\n",
        "wine_df = pd.DataFrame(wine.data, columns=wine.feature_names)\n",
        "wine_df['class'] = wine.target\n",
        "wine_df.head()"
      ],
      "metadata": {
        "id": "K2yVczVBJ007"
      },
      "execution_count": null,
      "outputs": []
    },
    {
      "cell_type": "code",
      "source": [
        "import seaborn as sns\n",
        "sns.pairplot(wine_df, hue='class')"
      ],
      "metadata": {
        "id": "l_XmcCD1UlNq"
      },
      "execution_count": null,
      "outputs": []
    },
    {
      "cell_type": "code",
      "source": [
        "from sklearn.model_selection import train_test_split\n",
        "from sklearn.preprocessing import StandardScaler\n",
        "\n",
        "x_train, x_test, t_train, t_test = train_test_split(wine.data, wine.target, random_state=0)\n",
        "\n",
        "std_scl = StandardScaler()\n",
        "std_scl.fit(x_train)\n",
        "x_train = std_scl.transform(x_train)\n",
        "x_test = std_scl.transform(x_test)"
      ],
      "metadata": {
        "id": "ctsMyjEtVNEw"
      },
      "execution_count": null,
      "outputs": []
    },
    {
      "cell_type": "code",
      "source": [
        "from sklearn.svm import LinearSVC\n",
        "\n",
        "model = LinearSVC(random_state=0)\n",
        "\n",
        "model.fit(x_train, t_train)"
      ],
      "metadata": {
        "id": "YpClkt9mW9To"
      },
      "execution_count": null,
      "outputs": []
    },
    {
      "cell_type": "code",
      "source": [
        "def model_predict(x):\n",
        "    y_pred = model.predict(x)\n",
        "\n",
        "    return y_pred"
      ],
      "metadata": {
        "id": "QTSQ9-5JZrUh"
      },
      "execution_count": null,
      "outputs": []
    },
    {
      "cell_type": "code",
      "source": [
        "from sklearn.metrics import accuracy_score\n",
        "\n",
        "y_train = model_predict(x_train)\n",
        "y_test = model_predict(x_test)\n",
        "\n",
        "acc_train = accuracy_score(t_train, y_train)\n",
        "print('정답률(훈련):', acc_train)\n",
        "acc_test = accuracy_score(t_test, y_test)\n",
        "print('정답률(테스트):', acc_test)"
      ],
      "metadata": {
        "id": "cnxupCEiXk1e"
      },
      "execution_count": null,
      "outputs": []
    },
    {
      "cell_type": "code",
      "source": [
        "import matplotlib.pyplot as plt\n",
        "\n",
        "axis_1 = 0\n",
        "axis_2 = 1\n",
        "\n",
        "x = x_test\n",
        "y = y_test\n",
        "\n",
        "group_0 = x[y==0]\n",
        "plt.scatter(group_0[:, axis_1], group_0[:, axis_2], marker='x')\n",
        "\n",
        "group_1 = x[y==1]\n",
        "plt.scatter(group_1[:, axis_1], group_1[:, axis_2], marker='.')\n",
        "\n",
        "group_2 = x[y==2]\n",
        "plt.scatter(group_2[:, axis_1], group_2[:, axis_2], marker='+')\n",
        "\n",
        "plt.xlabel(wine.feature_names[axis_1])\n",
        "plt.ylabel(wine.feature_names[axis_2])\n",
        "plt.show()"
      ],
      "metadata": {
        "id": "BwFIJ-4_bDFR"
      },
      "execution_count": null,
      "outputs": []
    }
  ]
}