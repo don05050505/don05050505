{
  "nbformat": 4,
  "nbformat_minor": 0,
  "metadata": {
    "colab": {
      "private_outputs": true,
      "provenance": [],
      "mount_file_id": "1_xlKNkEXX10IsPJ3LyH4jPef6i1RmW2V",
      "authorship_tag": "ABX9TyMt8PHpobrACLJfHlbRFMGA",
      "include_colab_link": true
    },
    "kernelspec": {
      "name": "python3",
      "display_name": "Python 3"
    },
    "language_info": {
      "name": "python"
    }
  },
  "cells": [
    {
      "cell_type": "markdown",
      "metadata": {
        "id": "view-in-github",
        "colab_type": "text"
      },
      "source": [
        "<a href=\"https://colab.research.google.com/github/don05050505/don05050505/blob/main/nGram.ipynb\" target=\"_parent\"><img src=\"https://colab.research.google.com/assets/colab-badge.svg\" alt=\"Open In Colab\"/></a>"
      ]
    },
    {
      "cell_type": "code",
      "source": [
        "!pip install -U nltk"
      ],
      "metadata": {
        "id": "WafjXY_8Ep5R"
      },
      "execution_count": null,
      "outputs": []
    },
    {
      "cell_type": "code",
      "source": [
        "from nltk.util import pad_sequence\n",
        "from nltk.util import bigrams\n",
        "from nltk.util import ngrams\n",
        "from nltk.util import everygrams\n",
        "from nltk.lm.preprocessing import pad_both_ends\n",
        "from nltk.lm.preprocessing import flatten"
      ],
      "metadata": {
        "id": "J0vJNvMqE8VQ"
      },
      "execution_count": null,
      "outputs": []
    },
    {
      "cell_type": "code",
      "source": [
        "import nltk\n",
        "nltk.download('all', quiet=True)"
      ],
      "metadata": {
        "id": "HJN-ZOtPFfKE"
      },
      "execution_count": null,
      "outputs": []
    },
    {
      "cell_type": "code",
      "source": [
        "!pip install konlp"
      ],
      "metadata": {
        "id": "Fz1CVbCEF3Y1"
      },
      "execution_count": null,
      "outputs": []
    },
    {
      "cell_type": "code",
      "source": [
        "text = [['i', 'like', 'eat'], ['i', 'like', 'eat']]"
      ],
      "metadata": {
        "id": "9ldmIjxAGLcd"
      },
      "execution_count": null,
      "outputs": []
    },
    {
      "cell_type": "code",
      "source": [
        "from numpy import array\n",
        "big = list(bigrams(text[1]))\n",
        "print(big)"
      ],
      "metadata": {
        "id": "LAOJtJQaGYCk"
      },
      "execution_count": null,
      "outputs": []
    },
    {
      "cell_type": "code",
      "source": [
        "from nltk.tokenize import word_tokenize\n",
        "sentence = \"if I were you, I would wprk out now.\"\n",
        "tokens = word_tokenize(sentence)\n",
        "tokens.remove('.')\n",
        "tokens.remove(',')\n",
        "print(tokens)"
      ],
      "metadata": {
        "id": "OZ68UgWKHa4f"
      },
      "execution_count": null,
      "outputs": []
    },
    {
      "cell_type": "code",
      "source": [
        "big = list(bigrams(tokens))\n",
        "print(big)"
      ],
      "metadata": {
        "id": "GY5qAl1zIHZs"
      },
      "execution_count": null,
      "outputs": []
    },
    {
      "cell_type": "code",
      "source": [
        "ngram = list(ngrams(tokens, n=3))\n",
        "print(ngram)"
      ],
      "metadata": {
        "id": "nu4Jqeb6Iaeq"
      },
      "execution_count": null,
      "outputs": []
    },
    {
      "cell_type": "code",
      "source": [
        "news = '''   '''"
      ],
      "metadata": {
        "id": "KVqldn7eQYgw"
      },
      "execution_count": null,
      "outputs": []
    },
    {
      "cell_type": "code",
      "source": [
        "tokens = word_tokenize(news)\n",
        "print(tokens)"
      ],
      "metadata": {
        "id": "6ycqeGESJeOT"
      },
      "execution_count": null,
      "outputs": []
    },
    {
      "cell_type": "code",
      "source": [
        "ngram = list(ngrams(tokens, n=4))\n",
        "print(ngram)"
      ],
      "metadata": {
        "id": "SfBef2XVJztK"
      },
      "execution_count": null,
      "outputs": []
    },
    {
      "cell_type": "code",
      "source": [
        "ngram_list = []\n",
        "\n",
        "search_word = input(\"찾고자 하는 단어를 입력하세요: \")\n",
        "\n",
        "for looking in ngram:\n",
        "    if search_word in looking:\n",
        "        ngram_list.append(looking)\n",
        "\n",
        "print(\"찾은 결과:\")\n",
        "print(ngram_list)\n"
      ],
      "metadata": {
        "id": "aXWy1IvQScNm"
      },
      "execution_count": null,
      "outputs": []
    }
  ]
}