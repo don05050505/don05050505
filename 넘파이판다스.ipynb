{
  "nbformat": 4,
  "nbformat_minor": 0,
  "metadata": {
    "colab": {
      "private_outputs": true,
      "provenance": [],
      "mount_file_id": "1FLAmRzj60oO8YLVDu5fW5xsZAqKmPWGy",
      "authorship_tag": "ABX9TyNHuF1WkdBdswqgmOFyfRp/",
      "include_colab_link": true
    },
    "kernelspec": {
      "name": "python3",
      "display_name": "Python 3"
    },
    "language_info": {
      "name": "python"
    }
  },
  "cells": [
    {
      "cell_type": "markdown",
      "metadata": {
        "id": "view-in-github",
        "colab_type": "text"
      },
      "source": [
        "<a href=\"https://colab.research.google.com/github/don05050505/don05050505/blob/main/%EB%84%98%ED%8C%8C%EC%9D%B4%ED%8C%90%EB%8B%A4%EC%8A%A4.ipynb\" target=\"_parent\"><img src=\"https://colab.research.google.com/assets/colab-badge.svg\" alt=\"Open In Colab\"/></a>"
      ]
    },
    {
      "cell_type": "code",
      "execution_count": null,
      "metadata": {
        "id": "8tqCYtS-3Svy"
      },
      "outputs": [],
      "source": [
        "import numpy as np\n",
        "b = np.array([0,1,2,3,4,5,6,7,8,9,10,11])\n",
        "c = b.reshape(3,4)\n",
        "print(c)\n",
        "d = c.reshape(-1)\n",
        "print(d)\n",
        "print(d[9])\n",
        "b[3] = 99\n",
        "print(b)\n",
        "c[1,1]=100\n",
        "print(c)"
      ]
    },
    {
      "cell_type": "code",
      "source": [
        "def a_func(x):\n",
        "    y = x*2 + 1\n",
        "    return y\n",
        "\n",
        "a = np.array([[0,1,2],\n",
        "             [3,4,5]])\n",
        "d = a_func(c)\n",
        "print(c)\n",
        "print(d)\n",
        "print(np.average(d, axis=0))\n",
        "print(np.average(d, axis=1))"
      ],
      "metadata": {
        "id": "sowgrJ3n7OTr"
      },
      "execution_count": null,
      "outputs": []
    },
    {
      "cell_type": "code",
      "source": [
        "import matplotlib.pyplot as plt\n",
        "x = np.linspace(-5,5)\n",
        "y1 = 2*x\n",
        "y2 = 3*x\n",
        "plt.xlabel(\"x value\")\n",
        "plt.ylabel(\"y value\")\n",
        "plt.title('my graph')\n",
        "plt.plot(x, y1, label='y1')\n",
        "plt.plot(x, y2, label='y2', linestyle='dashed')\n",
        "plt.legend()\n",
        "plt.show"
      ],
      "metadata": {
        "id": "tRMWjJPd-Exy"
      },
      "execution_count": null,
      "outputs": []
    },
    {
      "cell_type": "code",
      "source": [
        "x = np.array([1.2, 2.4, 0.0, 1.4, 1.5, 0.3, 0.7])\n",
        "y = np.array([2.4, 1.4, 1.0, 0.1, 1.7, 2.0, 0.6])\n",
        "\n",
        "plt.scatter(x, y)\n",
        "plt.show()"
      ],
      "metadata": {
        "id": "S4R-StSaps23"
      },
      "execution_count": null,
      "outputs": []
    },
    {
      "cell_type": "code",
      "source": [
        "img = np.array([[0,1,2,3],\n",
        "                [4,5,6,7],\n",
        "                [8,9,10,11],\n",
        "                [12,13,14,15]])\n",
        "plt.imshow(img, 'gray')\n",
        "plt.colorbar()\n",
        "plt.show()"
      ],
      "metadata": {
        "id": "0ZrZ3EFAqUas"
      },
      "execution_count": null,
      "outputs": []
    },
    {
      "cell_type": "code",
      "source": [
        "import pandas as pd\n",
        "import numpy as np\n",
        "\n",
        "a = pd.Series([60, 80, 70, 50, 30], index=['korean', 'english', 'math', 'science', 'history'])\n",
        "print(type(a))\n",
        "print(a)"
      ],
      "metadata": {
        "id": "5meCHqRxsvKp"
      },
      "execution_count": null,
      "outputs": []
    },
    {
      "cell_type": "code",
      "source": [
        "import pandas as pd\n",
        "import numpy as np\n",
        "\n",
        "a = pd.Series([60, 80, 70, 50, 30], index=np.array(['korean', 'english', 'math', 'science', 'history']))\n",
        "print(type(a))\n",
        "print(a)\n",
        "print(a[2])\n",
        "print(a['math'])\n",
        "b = pd.Series([20], index=['art'])\n",
        "f = a.append(b)\n",
        "print(f)"
      ],
      "metadata": {
        "id": "8z0At72iwVgh"
      },
      "execution_count": null,
      "outputs": []
    },
    {
      "cell_type": "code",
      "source": [
        "T = True\n",
        "F = False\n",
        "a = pd.DataFrame([[80,60,70,T],\n",
        "                  [90,80,70,T],\n",
        "                  [70,60,75,T],\n",
        "                  [40,60,50,F],\n",
        "                  [20,30,40,F],\n",
        "                  [50,20,10,F]])\n",
        "a.index = ['윤아', '유은', '지아', '은혜', '승호', '규태']\n",
        "a.columns = ['국어', '영어', '수학', '합격여부']\n",
        "a"
      ],
      "metadata": {
        "id": "pzZ8Cub0yV6v"
      },
      "execution_count": null,
      "outputs": []
    },
    {
      "cell_type": "code",
      "source": [
        "a['합격여부'] = a['합격여부'].map({True: '합격', False: '불합격'})\n",
        "a"
      ],
      "metadata": {
        "id": "gejVdByG1lYK"
      },
      "execution_count": null,
      "outputs": []
    },
    {
      "cell_type": "code",
      "source": [
        "a.describe()"
      ],
      "metadata": {
        "id": "CT2dU4Kp2Jhk"
      },
      "execution_count": null,
      "outputs": []
    },
    {
      "cell_type": "code",
      "source": [
        "윤아행꺼내기 = a.loc['윤아', :]\n",
        "print(type(윤아꺼내기))\n",
        "윤아꺼내기"
      ],
      "metadata": {
        "id": "L7TajLK92hT7"
      },
      "execution_count": null,
      "outputs": []
    },
    {
      "cell_type": "code",
      "source": [
        "영어열꺼내기 = a.loc[:, '영어']\n",
        "print(type(영어열꺼내기))\n",
        "영어열꺼내기"
      ],
      "metadata": {
        "id": "mKYk34lA3DKf"
      },
      "execution_count": null,
      "outputs": []
    },
    {
      "cell_type": "code",
      "source": [
        "범위지정해꺼내기 = a.iloc[1:4, :2]\n",
        "print(type(범위지정해꺼내기))\n",
        "범위지정해꺼내기"
      ],
      "metadata": {
        "id": "D_xYyLz64IlG"
      },
      "execution_count": null,
      "outputs": []
    },
    {
      "cell_type": "code",
      "source": [
        "# 행 추가\n",
        "a.loc['지니'] = pd.Series([70,80,70,T], index = ['수학', '국어', '영어', '합격여부'])\n",
        "# a['합격여부'] = a['합격여부'].map({True: '합격', False: '불합격'})\n",
        "a\n",
        "# 밑의 지니 True를 합격으로 바꿀려면, '합격'이라 넣는 수 밖에 없음."
      ],
      "metadata": {
        "id": "VMoxZQnF46gx"
      },
      "execution_count": null,
      "outputs": []
    },
    {
      "cell_type": "code",
      "source": [
        "# 열추가\n",
        "a['과학'] = [80,70,60,50,60,40,80]\n",
        "a"
      ],
      "metadata": {
        "id": "gmZILTpL8wcl"
      },
      "execution_count": null,
      "outputs": []
    },
    {
      "cell_type": "code",
      "source": [
        "# 수학 올림차순\n",
        "a.sort_values(by='수학')"
      ],
      "metadata": {
        "id": "0x2csrEN9jtt"
      },
      "execution_count": null,
      "outputs": []
    },
    {
      "cell_type": "code",
      "source": [
        "# 수학 내림차순\n",
        "a.sort_values(by='수학', ascending=False)"
      ],
      "metadata": {
        "id": "sNPdz47I-FnA"
      },
      "execution_count": null,
      "outputs": []
    },
    {
      "cell_type": "code",
      "source": [
        "# reshape 연습\n",
        "import numpy as np\n",
        "\n",
        "a = np.array([0,1,2,3,4,5])\n",
        "a = a.reshape(2, 3)\n",
        "b = np.array([[5,4,3], [2,1,0]])\n",
        "c = a+b\n",
        "print(c)"
      ],
      "metadata": {
        "id": "fXIwL6cK-wwr"
      },
      "execution_count": null,
      "outputs": []
    },
    {
      "cell_type": "code",
      "source": [
        "# 3차 함수곡선 그리기 (y=x3승-12x)\n",
        "x = np.linspace(-4,4)\n",
        "y = x**3 - 12*x\n",
        "\n",
        "plt.xlabel('x')\n",
        "plt.ylabel('y')\n",
        "plt.plot(x,y)\n",
        "plt.show()"
      ],
      "metadata": {
        "id": "OLd4UUln_q4m"
      },
      "execution_count": null,
      "outputs": []
    }
  ]
}