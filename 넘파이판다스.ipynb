{
  "nbformat": 4,
  "nbformat_minor": 0,
  "metadata": {
    "colab": {
      "private_outputs": true,
      "provenance": [],
      "mount_file_id": "1FLAmRzj60oO8YLVDu5fW5xsZAqKmPWGy",
      "authorship_tag": "ABX9TyNLWX3MIpCg5CTl5Jni1C0H",
      "include_colab_link": true
    },
    "kernelspec": {
      "name": "python3",
      "display_name": "Python 3"
    },
    "language_info": {
      "name": "python"
    }
  },
  "cells": [
    {
      "cell_type": "markdown",
      "metadata": {
        "id": "view-in-github",
        "colab_type": "text"
      },
      "source": [
        "<a href=\"https://colab.research.google.com/github/don05050505/don05050505/blob/main/%EB%84%98%ED%8C%8C%EC%9D%B4%ED%8C%90%EB%8B%A4%EC%8A%A4.ipynb\" target=\"_parent\"><img src=\"https://colab.research.google.com/assets/colab-badge.svg\" alt=\"Open In Colab\"/></a>"
      ]
    },
    {
      "cell_type": "code",
      "execution_count": null,
      "metadata": {
        "id": "8tqCYtS-3Svy"
      },
      "outputs": [],
      "source": [
        "import numpy as np\n",
        "b = np.array([0,1,2,3,4,5,6,7,8,9,10,11])\n",
        "c = b.reshape(3,4)\n",
        "print(c)\n",
        "d = c.reshape(-1)\n",
        "print(d)\n",
        "print(d[9])\n",
        "b[3] = 99\n",
        "print(b)\n",
        "c[1,1]=100\n",
        "print(c)"
      ]
    },
    {
      "cell_type": "code",
      "source": [
        "def a_func(x):\n",
        "    y = x*2 + 1\n",
        "    return y\n",
        "\n",
        "a = np.array([[0,1,2],\n",
        "             [3,4,5]])\n",
        "d = a_func(c)\n",
        "print(c)\n",
        "print(d)\n",
        "print(np.average(d, axis=0))\n",
        "print(np.average(d, axis=1))"
      ],
      "metadata": {
        "id": "sowgrJ3n7OTr"
      },
      "execution_count": null,
      "outputs": []
    },
    {
      "cell_type": "code",
      "source": [
        "import matplotlib.pyplot as plt\n",
        "x = np.linspace(-5,5)\n",
        "y1 = 2*x\n",
        "y2 = 3*x\n",
        "plt.xlabel(\"x value\")\n",
        "plt.ylabel(\"y value\")\n",
        "plt.title('my graph')\n",
        "plt.plot(x, y1, label='y1')\n",
        "plt.plot(x, y2, label='y2', linestyle='dashed')\n",
        "plt.legend()\n",
        "plt.show"
      ],
      "metadata": {
        "id": "tRMWjJPd-Exy"
      },
      "execution_count": null,
      "outputs": []
    },
    {
      "cell_type": "code",
      "source": [
        "x = np.array([1.2, 2.4, 0.0, 1.4, 1.5, 0.3, 0.7])\n",
        "y = np.array([2.4, 1.4, 1.0, 0.1, 1.7, 2.0, 0.6])\n",
        "\n",
        "plt.scatter(x, y)\n",
        "plt.show()"
      ],
      "metadata": {
        "id": "S4R-StSaps23"
      },
      "execution_count": null,
      "outputs": []
    },
    {
      "cell_type": "code",
      "source": [
        "img = np.array([[0,1,2,3],\n",
        "                [4,5,6,7],\n",
        "                [8,9,10,11],\n",
        "                [12,13,14,15]])\n",
        "plt.imshow(img, 'gray')\n",
        "plt.colorbar()\n",
        "plt.show()"
      ],
      "metadata": {
        "id": "0ZrZ3EFAqUas"
      },
      "execution_count": null,
      "outputs": []
    },
    {
      "cell_type": "code",
      "source": [
        "import pandas as pd\n",
        "import numpy as np\n",
        "\n",
        "a = pd.Series([60, 80, 70, 50, 30], index=['korean', 'english', 'math', 'science', 'history'])\n",
        "print(type(a))\n",
        "print(a)"
      ],
      "metadata": {
        "id": "5meCHqRxsvKp"
      },
      "execution_count": null,
      "outputs": []
    }
  ]
}