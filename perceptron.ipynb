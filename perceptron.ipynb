{
  "nbformat": 4,
  "nbformat_minor": 0,
  "metadata": {
    "colab": {
      "private_outputs": true,
      "provenance": [],
      "authorship_tag": "ABX9TyNcaXFXXQvhe7r8unXGoJfF",
      "include_colab_link": true
    },
    "kernelspec": {
      "name": "python3",
      "display_name": "Python 3"
    },
    "language_info": {
      "name": "python"
    }
  },
  "cells": [
    {
      "cell_type": "markdown",
      "metadata": {
        "id": "view-in-github",
        "colab_type": "text"
      },
      "source": [
        "<a href=\"https://colab.research.google.com/github/don05050505/don05050505/blob/main/perceptron.ipynb\" target=\"_parent\"><img src=\"https://colab.research.google.com/assets/colab-badge.svg\" alt=\"Open In Colab\"/></a>"
      ]
    },
    {
      "cell_type": "code",
      "execution_count": null,
      "metadata": {
        "id": "_sVbgXMmiprN"
      },
      "outputs": [],
      "source": [
        "from os import X_OK\n",
        "import numpy as np\n",
        "class DeltaSGD:\n",
        "    def __init__(self, W, X, D):\n",
        "        self.W=W\n",
        "        self.X=X\n",
        "        self.D=D\n",
        "\n",
        "    def sigmoid(self, v):\n",
        "        return 1 / (1+np.exp(-v))\n",
        "\n",
        "    def forward(self, x):\n",
        "        v = self.W @ x\n",
        "        y = self.sigmoid(v)\n",
        "        return y\n",
        "\n",
        "\n",
        "    def backward(self, alpha, x, d, y):\n",
        "        e = d - y\n",
        "        delta = y*(1-y)*e\n",
        "        dW = alpha*delta*x\n",
        "        return dW\n",
        "\n",
        "\n",
        "    def __call__(self, alpha, N):\n",
        "        for k in range(N):\n",
        "            x= self.X[k].T\n",
        "            d= self.D[k]\n",
        "\n",
        "            y= self.forward(x)\n",
        "            dW= self.backward(alpha, x, d, y)\n",
        "\n",
        "            self.W = self.W + dW\n",
        "\n",
        "        return self.W\n",
        "\n",
        "if __name__ == \"__main__\":\n",
        "\n",
        "    X = np.array([[0,0,1],\n",
        "                 [0,1,1],\n",
        "                 [1,0,1],\n",
        "                 [1,1,1]\n",
        "                  ])\n",
        "    D = np.array([0,\n",
        "                  0,\n",
        "                  1,\n",
        "                  1])\n",
        "\n",
        "    W= 2*np.random.rand(1,3)-1;\n",
        "    epochs=10000\n",
        "    dSGD= DeltaSGD(W,X,D)\n",
        "    alpha=0.9\n",
        "    N=4\n",
        "    for ephoch in range(epochs):\n",
        "        W=dSGD(alpha, N)\n",
        "\n",
        "    for k in range(N):\n",
        "        x = X[k].T\n",
        "        v = W @ x\n",
        "        y = dSGD.sigmoid(v)\n",
        "        print(y)\n"
      ]
    }
  ]
}