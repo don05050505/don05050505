{
  "nbformat": 4,
  "nbformat_minor": 0,
  "metadata": {
    "colab": {
      "private_outputs": true,
      "provenance": [],
      "include_colab_link": true
    },
    "kernelspec": {
      "name": "python3",
      "display_name": "Python 3"
    },
    "language_info": {
      "name": "python"
    },
    "accelerator": "TPU"
  },
  "cells": [
    {
      "cell_type": "markdown",
      "metadata": {
        "id": "view-in-github",
        "colab_type": "text"
      },
      "source": [
        "<a href=\"https://colab.research.google.com/github/don05050505/don05050505/blob/main/characterLSTM.ipynb\" target=\"_parent\"><img src=\"https://colab.research.google.com/assets/colab-badge.svg\" alt=\"Open In Colab\"/></a>"
      ]
    },
    {
      "cell_type": "code",
      "source": [
        "from google.colab import drive\n",
        "drive.mount('/content/drive')"
      ],
      "metadata": {
        "id": "I7c9LzHi-T4Y"
      },
      "execution_count": null,
      "outputs": []
    },
    {
      "cell_type": "code",
      "source": [
        "import tensorflow as tf\n",
        "import numpy as np\n",
        "import time"
      ],
      "metadata": {
        "id": "sDqO2FqCz9hS"
      },
      "execution_count": null,
      "outputs": []
    },
    {
      "cell_type": "code",
      "execution_count": null,
      "metadata": {
        "id": "C2tJIPCyzlO-"
      },
      "outputs": [],
      "source": [
        "data_dir = tf.keras.utils.get_file('shakespeare.txt', 'https://storage.googleapis.com/download.tensorflow.org/data/shakespeare.txt')"
      ]
    },
    {
      "cell_type": "code",
      "source": [
        "text = open(data_dir,'rb').read().decode(encoding='utf8')"
      ],
      "metadata": {
        "id": "nUdihVQs0GQv"
      },
      "execution_count": null,
      "outputs": []
    },
    {
      "cell_type": "code",
      "source": [
        "vocab = sorted(set(text))\n",
        "vocab_size = len(vocab)"
      ],
      "metadata": {
        "id": "f1i81Aeq0V47"
      },
      "execution_count": null,
      "outputs": []
    },
    {
      "cell_type": "code",
      "source": [
        "charToIdx = {u:i for i, u in enumerate(vocab)}\n",
        "idxToChar = {i:u for i, u in enumerate(vocab)}\n",
        "print(charToIdx)"
      ],
      "metadata": {
        "id": "9_R-3IIP0XoB"
      },
      "execution_count": null,
      "outputs": []
    },
    {
      "cell_type": "code",
      "source": [
        "text_to_int = np.array([charToIdx[c] for c in text])\n",
        "print(len(text_to_int))"
      ],
      "metadata": {
        "id": "n8OYArlj1HWy"
      },
      "execution_count": null,
      "outputs": []
    },
    {
      "cell_type": "code",
      "source": [
        "def split_input_target(chunk):\n",
        "    input_text = chunk[:-1]\n",
        "    target_text = chunk[1:]\n",
        "    return input_text, target_text"
      ],
      "metadata": {
        "id": "OxsvIvUM267h"
      },
      "execution_count": null,
      "outputs": []
    },
    {
      "cell_type": "markdown",
      "source": [],
      "metadata": {
        "id": "PvKtowHP3-X3"
      }
    },
    {
      "cell_type": "code",
      "source": [
        "char_dataset =tf.data.Dataset.from_tensor_slices(text_to_int)\n",
        "sequences = char_dataset.batch(100, drop_remainder=True)\n",
        "dataset = sequences.map(split_input_target)\n",
        "dataset = dataset.shuffle(10000).batch(64, drop_remainder=True)\n",
        "print(dataset)"
      ],
      "metadata": {
        "id": "IkvEx2UT2IyT"
      },
      "execution_count": null,
      "outputs": []
    },
    {
      "cell_type": "code",
      "source": [
        "\n",
        "class RNN(tf.keras.Model):\n",
        " def __init__(self, batch_size):\n",
        "   super(RNN, self).__init__()\n",
        "   self.embedding_layer = tf.keras.layers.Embedding(vocab_size, 256,\n",
        "                                                    batch_input_shape=[batch_size, None])\n",
        "   self.hidden_layer_1 = tf.keras.layers.LSTM(1024,\n",
        "                                             return_sequences=True,\n",
        "                                             stateful=True,\n",
        "                                             recurrent_initializer='glorot_uniform')\n",
        "   self.output_layer = tf.keras.layers.Dense(vocab_size)\n",
        "\n",
        " def call(self, x):\n",
        "   embedded_input = self.embedding_layer(x)\n",
        "   features = self.hidden_layer_1(embedded_input)\n",
        "   logits = self.output_layer(features)\n",
        "\n",
        "   return logits\n",
        "\n",
        "def sparse_cross_entropy_loss(labels, logits):\n",
        "  return tf.reduce_mean(tf.keras.losses.sparse_categorical_crossentropy(labels,\n",
        "                                                                        logits, from_logits=True))\n",
        "optimizer = tf.keras.optimizers.Adam()\n",
        "@tf.function\n",
        "def train_step(model, input, target): # backward(미분)\n",
        "  with tf.GradientTape() as tape:\n",
        "    logits = model(input)\n",
        "    loss = sparse_cross_entropy_loss(target, logits)\n",
        "  grads = tape.gradient(loss, model.trainable_variables)\n",
        "  optimizer.apply_gradients(zip(grads, model.trainable_variables))\n",
        "\n",
        "  return loss"
      ],
      "metadata": {
        "id": "tPJm_Isj4TEw"
      },
      "execution_count": null,
      "outputs": []
    },
    {
      "cell_type": "code",
      "source": [
        "batch_size = 64\n",
        "model = RNN(batch_size)\n",
        "# model.summary()\n",
        "epoch = 10"
      ],
      "metadata": {
        "id": "ncbdDuO26V0J"
      },
      "execution_count": null,
      "outputs": []
    },
    {
      "cell_type": "code",
      "source": [
        "for (batch_n, (input, target)) in enumerate(dataset):\n",
        "    loss = train_step(model, input, target)\n",
        "\n",
        "    if batch_n % 100 == 0:\n",
        "      template = 'Epoch {} Batch {} Loss {}'\n",
        "      print(template.format(epoch+1, batch_n, loss))\n",
        "\n",
        "  # 5회 반복마다 파라미터를 checkpoint로 저장합니다.\n",
        "    if (epoch + 1) % 5 == 0:\n",
        "        print ('Epoch {} Loss {:.4f}'.format(epoch+1, loss))\n",
        "        print ('Time taken for 1 epoch {} sec\\n'.format(time.time() - start))"
      ],
      "metadata": {
        "id": "LLKJ6uoP7NrO"
      },
      "execution_count": null,
      "outputs": []
    },
    {
      "cell_type": "code",
      "source": [
        "def generate_text(model, start_string):\n",
        "    num_sampling = 4000  # 생성할 글자(Character)의 개수를 지정합니다.\n",
        "\n",
        "    # start_sting을 integer 형태로 변환합니다.\n",
        "    input_eval = [char2idx[s] for s in start_string]\n",
        "    input_eval = tf.expand_dims(input_eval, 0)\n",
        "\n",
        "    # 샘플링 결과로 생성된 string을 저장할 배열을 초기화합니다.\n",
        "    text_generated = []\n",
        "\n",
        "    # 낮은 temperature 값은 더욱 정확한 텍스트를 생성합니다.\n",
        "    # 높은 temperature 값은 더욱 다양한 텍스트를 생성합니다.\n",
        "    temperature = 1.0\n",
        "\n",
        "    # 여기서 batch size = 1 입니다.\n",
        "    model.reset_states()\n",
        "    for i in range(num_sampling):\n",
        "        predictions = model(input_eval)\n",
        "        # 불필요한 batch dimension을 삭제합니다.\n",
        "        predictions = tf.squeeze(predictions, 0)\n",
        "\n",
        "        # 모델의 예측결과에 기반해서 랜덤 샘플링을 하기위해 categorical distribution을 사용합니다.\n",
        "        predictions = predictions / temperature\n",
        "        predicted_id = tf.random.categorical(predictions, num_samples=1)[-1,0].numpy()\n",
        "\n",
        "        # 예측된 character를 다음 input으로 사용합니다.\n",
        "        input_eval = tf.expand_dims([predicted_id], 0)\n",
        "        # 샘플링 결과를 text_generated 배열에 추가합니다.\n",
        "        text_generated.append(idx2char[predicted_id])\n",
        "\n",
        "    return (start_string + ''.join(text_generated))"
      ],
      "metadata": {
        "id": "bNpHS9Dc8FHA"
      },
      "execution_count": null,
      "outputs": []
    },
    {
      "cell_type": "code",
      "source": [
        "print(\"샘플링을 시작합니다!\")\n",
        "batch_size = 1\n",
        "sampling_model = RNN(batch_size)\n",
        "print(generate_text(model, start_string=u' '))"
      ],
      "metadata": {
        "id": "HIk5L1_n8R-F"
      },
      "execution_count": null,
      "outputs": []
    }
  ]
}