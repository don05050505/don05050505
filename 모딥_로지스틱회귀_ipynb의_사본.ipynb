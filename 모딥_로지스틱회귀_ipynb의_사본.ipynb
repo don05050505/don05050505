{
  "nbformat": 4,
  "nbformat_minor": 0,
  "metadata": {
    "colab": {
      "private_outputs": true,
      "provenance": [],
      "mount_file_id": "1jaucREeWfvbhwMXoLCdSKYeaNBekIC5g",
      "authorship_tag": "ABX9TyNw5Pj+AWgL14xqOCWBzRQI",
      "include_colab_link": true
    },
    "kernelspec": {
      "name": "python3",
      "display_name": "Python 3"
    },
    "language_info": {
      "name": "python"
    },
    "accelerator": "TPU"
  },
  "cells": [
    {
      "cell_type": "markdown",
      "metadata": {
        "id": "view-in-github",
        "colab_type": "text"
      },
      "source": [
        "<a href=\"https://colab.research.google.com/github/don05050505/don05050505/blob/main/%EB%AA%A8%EB%94%A5_%EB%A1%9C%EC%A7%80%EC%8A%A4%ED%8B%B1%ED%9A%8C%EA%B7%80_ipynb%EC%9D%98_%EC%82%AC%EB%B3%B8.ipynb\" target=\"_parent\"><img src=\"https://colab.research.google.com/assets/colab-badge.svg\" alt=\"Open In Colab\"/></a>"
      ]
    },
    {
      "cell_type": "code",
      "source": [
        "import numpy as np\n",
        "import pandas as pd\n",
        "import matplotlib.pyplot as plt"
      ],
      "metadata": {
        "id": "yUmWwmPcdu4T"
      },
      "execution_count": null,
      "outputs": []
    },
    {
      "cell_type": "code",
      "source": [
        "data = [[2,0],[4,0],[6,0],[8,1],[10,1],[12,1],[14,1]]\n",
        "\n",
        "x_data= [i[0] for i in data]\n",
        "y_data= [i[1] for i in data]\n",
        "\n",
        "plt.scatter(x_data, y_data)\n",
        "plt.xlim(0,15)\n",
        "plt.ylim(-1,1.1)\n",
        "\n",
        "a=0\n",
        "b=0\n",
        "\n",
        "lr = 0.05\n",
        "\n",
        "def sigmoid(x):\n",
        "    return 1/(1+np.e**(-x))\n",
        "\n",
        "for i in range(2001):\n",
        "    for x_data, y_data in data:\n",
        "        a_diff= x_data*(sigmoid(a*x_data+b) - y_data)\n",
        "        b_diff= sigmoid(a*x_data+b) - y_data\n",
        "        a=a-lr*a_diff\n",
        "        b=b-lr*b_diff\n",
        "        if i % 1000 == 0:\n",
        "            print('epoch=%.f, 기울기=%.04f, 절편=%.04f' % (i,a,b))\n",
        "\n",
        "plt.scatter(x, y)\n",
        "plt.xlim(0,15)\n",
        "plt.ylim(-1,1.1)\n",
        "x_range=(np.arange(0,15,0.1))\n",
        "plt.plot(np.arange(0,15,0.1), np.array([sigmoid(a*x+b) for x in x_range]))\n",
        "plt.show()\n"
      ],
      "metadata": {
        "id": "nuHDczBdc9iY"
      },
      "execution_count": null,
      "outputs": []
    }
  ]
}