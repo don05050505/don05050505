{
  "nbformat": 4,
  "nbformat_minor": 0,
  "metadata": {
    "colab": {
      "private_outputs": true,
      "provenance": [],
      "authorship_tag": "ABX9TyMWdeQMQ+57lstGzS+O/4Wr",
      "include_colab_link": true
    },
    "kernelspec": {
      "name": "python3",
      "display_name": "Python 3"
    },
    "language_info": {
      "name": "python"
    }
  },
  "cells": [
    {
      "cell_type": "markdown",
      "metadata": {
        "id": "view-in-github",
        "colab_type": "text"
      },
      "source": [
        "<a href=\"https://colab.research.google.com/github/don05050505/don05050505/blob/main/Linear_regressiom_Iris.ipynb\" target=\"_parent\"><img src=\"https://colab.research.google.com/assets/colab-badge.svg\" alt=\"Open In Colab\"/></a>"
      ]
    },
    {
      "cell_type": "code",
      "execution_count": null,
      "metadata": {
        "id": "3OZZ05z_d-Vo"
      },
      "outputs": [],
      "source": [
        "from google.colab import files\n",
        "upload = files.upload()"
      ]
    },
    {
      "cell_type": "code",
      "source": [
        "import pandas as pd\n",
        "import numpy as np\n",
        "df = pd.read_csv(\"Iris.csv\")\n",
        "# print(df)\n",
        "keys = df.keys()\n",
        "print(keys)\n",
        "y = df[['Species']]\n",
        "y['one'] = 0\n",
        "y['two'] = 0\n",
        "y['three'] = 0\n",
        "# print(y)\n",
        "# print(y.shape)\n",
        "# yList = y.values.reshape(150)\n",
        "\n",
        "# yList = list(set(yList)) #중복제거\n",
        "# print(yList)\n",
        "# df.shape\n",
        "y['Species'] = np.where(y['Species']=='Iris-setosa', 0,\n",
        "                        np.where(y['Species'] == 'Iris-virginica', 2,\n",
        "                                 1))\n",
        "\n",
        "y['one'] = np.where(y['Species'] == 0, 1, 0)\n",
        "y['two'] = np.where(y['Species'] == 1, 1, 0)\n",
        "y['three'] = np.where(y['Species'] == 2, 1, 0)\n",
        "y = y[['one', 'two', 'three']]\n",
        "y = y.to_numpy()\n",
        "print(y)"
      ],
      "metadata": {
        "id": "iprV5hbyegzl"
      },
      "execution_count": null,
      "outputs": []
    },
    {
      "cell_type": "code",
      "source": [
        "df['One'] = 1 # One이 맨뒤에 붙음\n",
        "X = df[['One', 'SepalLengthCm', 'SepalWidthCm', 'PetalLengthCm', 'PetalWidthCm']] #One을 앞으로 땡김\n",
        "X = X.to_numpy()\n",
        "# print(X.shape)\n",
        "XSquare = X.T@X #제곱\n",
        "# print(XSquare)\n",
        "invXSquare = np.linalg.inv(XSquare) #역\n",
        "# print(invXSquare)\n",
        "invXSquareXTransporm = invXSquare@X.T\n",
        "# print(invXSquareXTransporm.shape)\n",
        "# print(y.shape)\n",
        "B = invXSquareXTransporm @ y\n",
        "print(B)\n",
        "x = X[0, :].reshape([1,5])\n",
        "# # print(x)\n",
        "# predY = x@B\n",
        "# print(predY)"
      ],
      "metadata": {
        "id": "LCP2lACaogXJ"
      },
      "execution_count": null,
      "outputs": []
    },
    {
      "cell_type": "code",
      "source": [
        "x = X[2, :].reshape([1,5])\n",
        "print(x)\n",
        "predY = x@B\n",
        "print(predY)"
      ],
      "metadata": {
        "id": "f9JOCtlZw_1v"
      },
      "execution_count": null,
      "outputs": []
    }
  ]
}